{
 "cells": [
  {
   "cell_type": "markdown",
   "metadata": {
    "id": "26NqNfQheGy6"
   },
   "source": [
    "# Effect of COVID19 on sales of in industries of US"
   ]
  },
  {
   "cell_type": "code",
   "execution_count": 1,
   "metadata": {
    "id": "G_yH7czthJw9"
   },
   "outputs": [],
   "source": [
    "import pandas as pd\n",
    "import numpy as np\n",
    "import matplotlib.pyplot as plt\n",
    "import seaborn as sns"
   ]
  },
  {
   "cell_type": "markdown",
   "metadata": {
    "id": "fJgUnYFWePeB"
   },
   "source": [
    "## Data Import and Cleaning"
   ]
  },
  {
   "cell_type": "markdown",
   "metadata": {
    "id": "vEP0Qisd476M"
   },
   "source": [
    "The source data is divided into three different datasets. \n",
    "1.\tSupermarket sales.\n",
    "2.\tStock prices of USA.\n",
    "3.\tPersonal Consumption Expenditures by Major Type of Product, Billions of Dollars.\n",
    "> * Food\n",
    "> * Services\n",
    "> * Medic-aid\n",
    "> * Durable goods\n",
    "> * Non-durable goods\n"
   ]
  },
  {
   "cell_type": "code",
   "execution_count": 2,
   "metadata": {
    "id": "ucoYN23XeBNR"
   },
   "outputs": [],
   "source": [
    "# stock US @https://finance.yahoo.com/quote/%5EIXIC/history?period1=1485302400&period2=1598313600&interval=1d&filter=history&frequency=1d\n",
    "stock = pd.read_csv('C:/Users/ICare/Downloads/Data Science/Covid-19 effect on US/nasdaq_stock.csv')\n",
    "# Personal consumption expenditures: @https://fred.stlouisfed.org/release/tables?rid=54&eid=3220#\n",
    "## food \n",
    "pce_food=pd.read_csv('C:/Users/ICare/Downloads/Data Science/Covid-19 effect on US/exp_food.csv')\n",
    "## services\n",
    "pce_services=pd.read_csv('C:/Users/ICare/Downloads/Data Science/Covid-19 effect on US/exp_services.csv')\n",
    "## durable goods\n",
    "pce_durable=pd.read_csv('C:/Users/ICare/Downloads/Data Science/Covid-19 effect on US/exp_durable_goods.csv')\n",
    "## nondurable goods\n",
    "pce_nondurable=pd.read_csv('C:/Users/ICare/Downloads/Data Science/Covid-19 effect on US/exp_non-durable_goods.csv')\n",
    "## medicaid\n",
    "pce_medicaid=pd.read_csv('C:/Users/ICare/Downloads/Data Science/Covid-19 effect on US/exp_medicaid.csv')\n",
    "\n",
    "\n",
    "# Super market sales: @https://www.kaggle.com/aungpyaeap/supermarket-sales\n",
    "supermarket_sales=pd.read_csv('C:/Users/ICare/Downloads/Data Science/Covid-19 effect on US/supermarket_sales.csv')\n"
   ]
  },
  {
   "cell_type": "code",
   "execution_count": 3,
   "metadata": {
    "colab": {
     "base_uri": "https://localhost:8080/",
     "height": 204
    },
    "id": "ciGaE_YiiIZG",
    "outputId": "daa9b4c5-eac9-4a7e-cdff-4d2c6238e404"
   },
   "outputs": [
    {
     "data": {
      "text/html": [
       "<div>\n",
       "<style scoped>\n",
       "    .dataframe tbody tr th:only-of-type {\n",
       "        vertical-align: middle;\n",
       "    }\n",
       "\n",
       "    .dataframe tbody tr th {\n",
       "        vertical-align: top;\n",
       "    }\n",
       "\n",
       "    .dataframe thead th {\n",
       "        text-align: right;\n",
       "    }\n",
       "</style>\n",
       "<table border=\"1\" class=\"dataframe\">\n",
       "  <thead>\n",
       "    <tr style=\"text-align: right;\">\n",
       "      <th></th>\n",
       "      <th>DATE</th>\n",
       "      <th>PCES</th>\n",
       "    </tr>\n",
       "  </thead>\n",
       "  <tbody>\n",
       "    <tr>\n",
       "      <th>0</th>\n",
       "      <td>1/1/2016</td>\n",
       "      <td>8575.7</td>\n",
       "    </tr>\n",
       "    <tr>\n",
       "      <th>1</th>\n",
       "      <td>2/1/2016</td>\n",
       "      <td>8628.7</td>\n",
       "    </tr>\n",
       "    <tr>\n",
       "      <th>2</th>\n",
       "      <td>3/1/2016</td>\n",
       "      <td>8633.4</td>\n",
       "    </tr>\n",
       "    <tr>\n",
       "      <th>3</th>\n",
       "      <td>4/1/2016</td>\n",
       "      <td>8685.6</td>\n",
       "    </tr>\n",
       "    <tr>\n",
       "      <th>4</th>\n",
       "      <td>5/1/2016</td>\n",
       "      <td>8715.4</td>\n",
       "    </tr>\n",
       "  </tbody>\n",
       "</table>\n",
       "</div>"
      ],
      "text/plain": [
       "       DATE    PCES\n",
       "0  1/1/2016  8575.7\n",
       "1  2/1/2016  8628.7\n",
       "2  3/1/2016  8633.4\n",
       "3  4/1/2016  8685.6\n",
       "4  5/1/2016  8715.4"
      ]
     },
     "execution_count": 3,
     "metadata": {},
     "output_type": "execute_result"
    }
   ],
   "source": [
    "pce_services.head()"
   ]
  },
  {
   "cell_type": "markdown",
   "metadata": {
    "id": "mhgc7e-HFLKP"
   },
   "source": [
    "## **Industry before COVID19**\n",
    "\n",
    "---\n",
    "\n"
   ]
  },
  {
   "cell_type": "markdown",
   "metadata": {
    "id": "IeQgYJjDPmjb"
   },
   "source": [
    "### *Data:  supermarket sales*"
   ]
  },
  {
   "cell_type": "markdown",
   "metadata": {
    "id": "qMylxfPyQWEH"
   },
   "source": [
    "## Cleaning"
   ]
  },
  {
   "cell_type": "code",
   "execution_count": 4,
   "metadata": {
    "colab": {
     "base_uri": "https://localhost:8080/",
     "height": 343
    },
    "id": "4bIYcpzcFKr0",
    "outputId": "4bac1a09-b6a9-4e7d-c2c4-1951ae87b086"
   },
   "outputs": [
    {
     "data": {
      "text/html": [
       "<div>\n",
       "<style scoped>\n",
       "    .dataframe tbody tr th:only-of-type {\n",
       "        vertical-align: middle;\n",
       "    }\n",
       "\n",
       "    .dataframe tbody tr th {\n",
       "        vertical-align: top;\n",
       "    }\n",
       "\n",
       "    .dataframe thead th {\n",
       "        text-align: right;\n",
       "    }\n",
       "</style>\n",
       "<table border=\"1\" class=\"dataframe\">\n",
       "  <thead>\n",
       "    <tr style=\"text-align: right;\">\n",
       "      <th></th>\n",
       "      <th>Invoice ID</th>\n",
       "      <th>Branch</th>\n",
       "      <th>City</th>\n",
       "      <th>Customer type</th>\n",
       "      <th>Gender</th>\n",
       "      <th>Product line</th>\n",
       "      <th>Unit price</th>\n",
       "      <th>Quantity</th>\n",
       "      <th>Tax 5%</th>\n",
       "      <th>Total</th>\n",
       "      <th>Date</th>\n",
       "      <th>Time</th>\n",
       "      <th>Payment</th>\n",
       "      <th>cogs</th>\n",
       "      <th>gross margin percentage</th>\n",
       "      <th>gross income</th>\n",
       "      <th>Rating</th>\n",
       "    </tr>\n",
       "  </thead>\n",
       "  <tbody>\n",
       "    <tr>\n",
       "      <th>0</th>\n",
       "      <td>750-67-8428</td>\n",
       "      <td>A</td>\n",
       "      <td>Yangon</td>\n",
       "      <td>Member</td>\n",
       "      <td>Female</td>\n",
       "      <td>Health and beauty</td>\n",
       "      <td>74.69</td>\n",
       "      <td>7</td>\n",
       "      <td>26.1415</td>\n",
       "      <td>548.9715</td>\n",
       "      <td>1/5/2019</td>\n",
       "      <td>13:08</td>\n",
       "      <td>Ewallet</td>\n",
       "      <td>522.83</td>\n",
       "      <td>4.761905</td>\n",
       "      <td>26.1415</td>\n",
       "      <td>9.1</td>\n",
       "    </tr>\n",
       "    <tr>\n",
       "      <th>1</th>\n",
       "      <td>226-31-3081</td>\n",
       "      <td>C</td>\n",
       "      <td>Naypyitaw</td>\n",
       "      <td>Normal</td>\n",
       "      <td>Female</td>\n",
       "      <td>Electronic accessories</td>\n",
       "      <td>15.28</td>\n",
       "      <td>5</td>\n",
       "      <td>3.8200</td>\n",
       "      <td>80.2200</td>\n",
       "      <td>3/8/2019</td>\n",
       "      <td>10:29</td>\n",
       "      <td>Cash</td>\n",
       "      <td>76.40</td>\n",
       "      <td>4.761905</td>\n",
       "      <td>3.8200</td>\n",
       "      <td>9.6</td>\n",
       "    </tr>\n",
       "    <tr>\n",
       "      <th>2</th>\n",
       "      <td>631-41-3108</td>\n",
       "      <td>A</td>\n",
       "      <td>Yangon</td>\n",
       "      <td>Normal</td>\n",
       "      <td>Male</td>\n",
       "      <td>Home and lifestyle</td>\n",
       "      <td>46.33</td>\n",
       "      <td>7</td>\n",
       "      <td>16.2155</td>\n",
       "      <td>340.5255</td>\n",
       "      <td>3/3/2019</td>\n",
       "      <td>13:23</td>\n",
       "      <td>Credit card</td>\n",
       "      <td>324.31</td>\n",
       "      <td>4.761905</td>\n",
       "      <td>16.2155</td>\n",
       "      <td>7.4</td>\n",
       "    </tr>\n",
       "    <tr>\n",
       "      <th>3</th>\n",
       "      <td>123-19-1176</td>\n",
       "      <td>A</td>\n",
       "      <td>Yangon</td>\n",
       "      <td>Member</td>\n",
       "      <td>Male</td>\n",
       "      <td>Health and beauty</td>\n",
       "      <td>58.22</td>\n",
       "      <td>8</td>\n",
       "      <td>23.2880</td>\n",
       "      <td>489.0480</td>\n",
       "      <td>1/27/2019</td>\n",
       "      <td>20:33</td>\n",
       "      <td>Ewallet</td>\n",
       "      <td>465.76</td>\n",
       "      <td>4.761905</td>\n",
       "      <td>23.2880</td>\n",
       "      <td>8.4</td>\n",
       "    </tr>\n",
       "    <tr>\n",
       "      <th>4</th>\n",
       "      <td>373-73-7910</td>\n",
       "      <td>A</td>\n",
       "      <td>Yangon</td>\n",
       "      <td>Normal</td>\n",
       "      <td>Male</td>\n",
       "      <td>Sports and travel</td>\n",
       "      <td>86.31</td>\n",
       "      <td>7</td>\n",
       "      <td>30.2085</td>\n",
       "      <td>634.3785</td>\n",
       "      <td>2/8/2019</td>\n",
       "      <td>10:37</td>\n",
       "      <td>Ewallet</td>\n",
       "      <td>604.17</td>\n",
       "      <td>4.761905</td>\n",
       "      <td>30.2085</td>\n",
       "      <td>5.3</td>\n",
       "    </tr>\n",
       "  </tbody>\n",
       "</table>\n",
       "</div>"
      ],
      "text/plain": [
       "    Invoice ID Branch       City Customer type  Gender  \\\n",
       "0  750-67-8428      A     Yangon        Member  Female   \n",
       "1  226-31-3081      C  Naypyitaw        Normal  Female   \n",
       "2  631-41-3108      A     Yangon        Normal    Male   \n",
       "3  123-19-1176      A     Yangon        Member    Male   \n",
       "4  373-73-7910      A     Yangon        Normal    Male   \n",
       "\n",
       "             Product line  Unit price  Quantity   Tax 5%     Total       Date  \\\n",
       "0       Health and beauty       74.69         7  26.1415  548.9715   1/5/2019   \n",
       "1  Electronic accessories       15.28         5   3.8200   80.2200   3/8/2019   \n",
       "2      Home and lifestyle       46.33         7  16.2155  340.5255   3/3/2019   \n",
       "3       Health and beauty       58.22         8  23.2880  489.0480  1/27/2019   \n",
       "4       Sports and travel       86.31         7  30.2085  634.3785   2/8/2019   \n",
       "\n",
       "    Time      Payment    cogs  gross margin percentage  gross income  Rating  \n",
       "0  13:08      Ewallet  522.83                 4.761905       26.1415     9.1  \n",
       "1  10:29         Cash   76.40                 4.761905        3.8200     9.6  \n",
       "2  13:23  Credit card  324.31                 4.761905       16.2155     7.4  \n",
       "3  20:33      Ewallet  465.76                 4.761905       23.2880     8.4  \n",
       "4  10:37      Ewallet  604.17                 4.761905       30.2085     5.3  "
      ]
     },
     "execution_count": 4,
     "metadata": {},
     "output_type": "execute_result"
    }
   ],
   "source": [
    "supermarket_sales.head()"
   ]
  },
  {
   "cell_type": "code",
   "execution_count": 5,
   "metadata": {
    "colab": {
     "base_uri": "https://localhost:8080/",
     "height": 323
    },
    "id": "9IW1_EW1VSD2",
    "outputId": "38565986-e3f9-44cb-83cb-a16cb8407576"
   },
   "outputs": [
    {
     "data": {
      "text/plain": [
       "Invoice ID                 0\n",
       "Branch                     0\n",
       "City                       0\n",
       "Customer type              0\n",
       "Gender                     0\n",
       "Product line               0\n",
       "Unit price                 0\n",
       "Quantity                   0\n",
       "Tax 5%                     0\n",
       "Total                      0\n",
       "Date                       0\n",
       "Time                       0\n",
       "Payment                    0\n",
       "cogs                       0\n",
       "gross margin percentage    0\n",
       "gross income               0\n",
       "Rating                     0\n",
       "dtype: int64"
      ]
     },
     "execution_count": 5,
     "metadata": {},
     "output_type": "execute_result"
    }
   ],
   "source": [
    "supermarket_sales.isnull().sum()"
   ]
  },
  {
   "cell_type": "code",
   "execution_count": 6,
   "metadata": {
    "colab": {
     "base_uri": "https://localhost:8080/",
     "height": 425
    },
    "id": "y9NtyYyhVfqb",
    "outputId": "3f931b14-693e-4cad-b35c-185931a4b8bf"
   },
   "outputs": [
    {
     "name": "stdout",
     "output_type": "stream",
     "text": [
      "<class 'pandas.core.frame.DataFrame'>\n",
      "RangeIndex: 1000 entries, 0 to 999\n",
      "Data columns (total 17 columns):\n",
      " #   Column                   Non-Null Count  Dtype  \n",
      "---  ------                   --------------  -----  \n",
      " 0   Invoice ID               1000 non-null   object \n",
      " 1   Branch                   1000 non-null   object \n",
      " 2   City                     1000 non-null   object \n",
      " 3   Customer type            1000 non-null   object \n",
      " 4   Gender                   1000 non-null   object \n",
      " 5   Product line             1000 non-null   object \n",
      " 6   Unit price               1000 non-null   float64\n",
      " 7   Quantity                 1000 non-null   int64  \n",
      " 8   Tax 5%                   1000 non-null   float64\n",
      " 9   Total                    1000 non-null   float64\n",
      " 10  Date                     1000 non-null   object \n",
      " 11  Time                     1000 non-null   object \n",
      " 12  Payment                  1000 non-null   object \n",
      " 13  cogs                     1000 non-null   float64\n",
      " 14  gross margin percentage  1000 non-null   float64\n",
      " 15  gross income             1000 non-null   float64\n",
      " 16  Rating                   1000 non-null   float64\n",
      "dtypes: float64(7), int64(1), object(9)\n",
      "memory usage: 132.9+ KB\n"
     ]
    }
   ],
   "source": [
    "supermarket_sales.info()"
   ]
  },
  {
   "cell_type": "code",
   "execution_count": 7,
   "metadata": {
    "colab": {
     "base_uri": "https://localhost:8080/",
     "height": 297
    },
    "id": "Djt8rPNKVrRq",
    "outputId": "c9fec9c5-0958-459b-d3e2-67b65357bfc8"
   },
   "outputs": [
    {
     "data": {
      "text/html": [
       "<div>\n",
       "<style scoped>\n",
       "    .dataframe tbody tr th:only-of-type {\n",
       "        vertical-align: middle;\n",
       "    }\n",
       "\n",
       "    .dataframe tbody tr th {\n",
       "        vertical-align: top;\n",
       "    }\n",
       "\n",
       "    .dataframe thead th {\n",
       "        text-align: right;\n",
       "    }\n",
       "</style>\n",
       "<table border=\"1\" class=\"dataframe\">\n",
       "  <thead>\n",
       "    <tr style=\"text-align: right;\">\n",
       "      <th></th>\n",
       "      <th>Unit price</th>\n",
       "      <th>Quantity</th>\n",
       "      <th>Tax 5%</th>\n",
       "      <th>Total</th>\n",
       "      <th>cogs</th>\n",
       "      <th>gross margin percentage</th>\n",
       "      <th>gross income</th>\n",
       "      <th>Rating</th>\n",
       "    </tr>\n",
       "  </thead>\n",
       "  <tbody>\n",
       "    <tr>\n",
       "      <th>count</th>\n",
       "      <td>1000.000000</td>\n",
       "      <td>1000.000000</td>\n",
       "      <td>1000.000000</td>\n",
       "      <td>1000.000000</td>\n",
       "      <td>1000.00000</td>\n",
       "      <td>1.000000e+03</td>\n",
       "      <td>1000.000000</td>\n",
       "      <td>1000.00000</td>\n",
       "    </tr>\n",
       "    <tr>\n",
       "      <th>mean</th>\n",
       "      <td>55.672130</td>\n",
       "      <td>5.510000</td>\n",
       "      <td>15.379369</td>\n",
       "      <td>322.966749</td>\n",
       "      <td>307.58738</td>\n",
       "      <td>4.761905e+00</td>\n",
       "      <td>15.379369</td>\n",
       "      <td>6.97270</td>\n",
       "    </tr>\n",
       "    <tr>\n",
       "      <th>std</th>\n",
       "      <td>26.494628</td>\n",
       "      <td>2.923431</td>\n",
       "      <td>11.708825</td>\n",
       "      <td>245.885335</td>\n",
       "      <td>234.17651</td>\n",
       "      <td>6.220360e-14</td>\n",
       "      <td>11.708825</td>\n",
       "      <td>1.71858</td>\n",
       "    </tr>\n",
       "    <tr>\n",
       "      <th>min</th>\n",
       "      <td>10.080000</td>\n",
       "      <td>1.000000</td>\n",
       "      <td>0.508500</td>\n",
       "      <td>10.678500</td>\n",
       "      <td>10.17000</td>\n",
       "      <td>4.761905e+00</td>\n",
       "      <td>0.508500</td>\n",
       "      <td>4.00000</td>\n",
       "    </tr>\n",
       "    <tr>\n",
       "      <th>25%</th>\n",
       "      <td>32.875000</td>\n",
       "      <td>3.000000</td>\n",
       "      <td>5.924875</td>\n",
       "      <td>124.422375</td>\n",
       "      <td>118.49750</td>\n",
       "      <td>4.761905e+00</td>\n",
       "      <td>5.924875</td>\n",
       "      <td>5.50000</td>\n",
       "    </tr>\n",
       "    <tr>\n",
       "      <th>50%</th>\n",
       "      <td>55.230000</td>\n",
       "      <td>5.000000</td>\n",
       "      <td>12.088000</td>\n",
       "      <td>253.848000</td>\n",
       "      <td>241.76000</td>\n",
       "      <td>4.761905e+00</td>\n",
       "      <td>12.088000</td>\n",
       "      <td>7.00000</td>\n",
       "    </tr>\n",
       "    <tr>\n",
       "      <th>75%</th>\n",
       "      <td>77.935000</td>\n",
       "      <td>8.000000</td>\n",
       "      <td>22.445250</td>\n",
       "      <td>471.350250</td>\n",
       "      <td>448.90500</td>\n",
       "      <td>4.761905e+00</td>\n",
       "      <td>22.445250</td>\n",
       "      <td>8.50000</td>\n",
       "    </tr>\n",
       "    <tr>\n",
       "      <th>max</th>\n",
       "      <td>99.960000</td>\n",
       "      <td>10.000000</td>\n",
       "      <td>49.650000</td>\n",
       "      <td>1042.650000</td>\n",
       "      <td>993.00000</td>\n",
       "      <td>4.761905e+00</td>\n",
       "      <td>49.650000</td>\n",
       "      <td>10.00000</td>\n",
       "    </tr>\n",
       "  </tbody>\n",
       "</table>\n",
       "</div>"
      ],
      "text/plain": [
       "        Unit price     Quantity       Tax 5%        Total        cogs  \\\n",
       "count  1000.000000  1000.000000  1000.000000  1000.000000  1000.00000   \n",
       "mean     55.672130     5.510000    15.379369   322.966749   307.58738   \n",
       "std      26.494628     2.923431    11.708825   245.885335   234.17651   \n",
       "min      10.080000     1.000000     0.508500    10.678500    10.17000   \n",
       "25%      32.875000     3.000000     5.924875   124.422375   118.49750   \n",
       "50%      55.230000     5.000000    12.088000   253.848000   241.76000   \n",
       "75%      77.935000     8.000000    22.445250   471.350250   448.90500   \n",
       "max      99.960000    10.000000    49.650000  1042.650000   993.00000   \n",
       "\n",
       "       gross margin percentage  gross income      Rating  \n",
       "count             1.000000e+03   1000.000000  1000.00000  \n",
       "mean              4.761905e+00     15.379369     6.97270  \n",
       "std               6.220360e-14     11.708825     1.71858  \n",
       "min               4.761905e+00      0.508500     4.00000  \n",
       "25%               4.761905e+00      5.924875     5.50000  \n",
       "50%               4.761905e+00     12.088000     7.00000  \n",
       "75%               4.761905e+00     22.445250     8.50000  \n",
       "max               4.761905e+00     49.650000    10.00000  "
      ]
     },
     "execution_count": 7,
     "metadata": {},
     "output_type": "execute_result"
    }
   ],
   "source": [
    "supermarket_sales.describe()"
   ]
  },
  {
   "cell_type": "code",
   "execution_count": 8,
   "metadata": {
    "id": "XqYDvMY5pxPE"
   },
   "outputs": [],
   "source": [
    "supermarket_sales['Date'] = pd.to_datetime(supermarket_sales['Date'])"
   ]
  },
  {
   "cell_type": "markdown",
   "metadata": {
    "id": "Z1WXUFr4V33j"
   },
   "source": [
    "## Visualizing product sales"
   ]
  },
  {
   "cell_type": "code",
   "execution_count": 9,
   "metadata": {
    "colab": {
     "base_uri": "https://localhost:8080/",
     "height": 435
    },
    "id": "cX1Z95GAV8Sq",
    "outputId": "93614097-27da-44f2-aaef-8c09f122a403"
   },
   "outputs": [
    {
     "data": {
      "text/plain": [
       "Text(0, 0.5, 'Product line')"
      ]
     },
     "execution_count": 9,
     "metadata": {},
     "output_type": "execute_result"
    },
    {
     "data": {
      "image/png": "[encoded data removed]",
      "text/plain": [
       "<Figure size 1008x432 with 1 Axes>"
      ]
     },
     "metadata": {
      "needs_background": "light"
     },
     "output_type": "display_data"
    }
   ],
   "source": [
    "## boxen plot\n",
    "\n",
    "plt.figure(figsize = (14,6))\n",
    "ax = sns.boxenplot(y = \"Product line\", x = \"Total\", data = supermarket_sales)\n",
    "ax.set_title(\"Sales of product types\", fontsize = 25)\n",
    "ax.set_xlabel(\"Sales\", fontsize = 16)\n",
    "ax.set_ylabel(\"Product line\", fontsize = 16)"
   ]
  },
  {
   "cell_type": "markdown",
   "metadata": {
    "id": "-bnrSbNe3dPt"
   },
   "source": [
    "Here we can see that the average sales of different lines of products. Health and beauty making the highest sales whereas Fashion accessories making the lowest sales. That being said, we can observe that food and beverages is the second lowest in the chart above"
   ]
  },
  {
   "cell_type": "code",
   "execution_count": 10,
   "metadata": {
    "colab": {
     "base_uri": "https://localhost:8080/",
     "height": 297
    },
    "id": "Lic88Djnpgnu",
    "outputId": "c559386b-6ed2-45a4-9c6c-3c52a9db585c"
   },
   "outputs": [
    {
     "data": {
      "text/html": [
       "<div>\n",
       "<style scoped>\n",
       "    .dataframe tbody tr th:only-of-type {\n",
       "        vertical-align: middle;\n",
       "    }\n",
       "\n",
       "    .dataframe tbody tr th {\n",
       "        vertical-align: top;\n",
       "    }\n",
       "\n",
       "    .dataframe thead tr th {\n",
       "        text-align: left;\n",
       "    }\n",
       "\n",
       "    .dataframe thead tr:last-of-type th {\n",
       "        text-align: right;\n",
       "    }\n",
       "</style>\n",
       "<table border=\"1\" class=\"dataframe\">\n",
       "  <thead>\n",
       "    <tr>\n",
       "      <th></th>\n",
       "      <th>sum</th>\n",
       "    </tr>\n",
       "    <tr>\n",
       "      <th></th>\n",
       "      <th>Total</th>\n",
       "    </tr>\n",
       "    <tr>\n",
       "      <th>Product line</th>\n",
       "      <th></th>\n",
       "    </tr>\n",
       "  </thead>\n",
       "  <tbody>\n",
       "    <tr>\n",
       "      <th>Electronic accessories</th>\n",
       "      <td>54337.5315</td>\n",
       "    </tr>\n",
       "    <tr>\n",
       "      <th>Fashion accessories</th>\n",
       "      <td>54305.8950</td>\n",
       "    </tr>\n",
       "    <tr>\n",
       "      <th>Food and beverages</th>\n",
       "      <td>56144.8440</td>\n",
       "    </tr>\n",
       "    <tr>\n",
       "      <th>Health and beauty</th>\n",
       "      <td>49193.7390</td>\n",
       "    </tr>\n",
       "    <tr>\n",
       "      <th>Home and lifestyle</th>\n",
       "      <td>53861.9130</td>\n",
       "    </tr>\n",
       "    <tr>\n",
       "      <th>Sports and travel</th>\n",
       "      <td>55122.8265</td>\n",
       "    </tr>\n",
       "  </tbody>\n",
       "</table>\n",
       "</div>"
      ],
      "text/plain": [
       "                               sum\n",
       "                             Total\n",
       "Product line                      \n",
       "Electronic accessories  54337.5315\n",
       "Fashion accessories     54305.8950\n",
       "Food and beverages      56144.8440\n",
       "Health and beauty       49193.7390\n",
       "Home and lifestyle      53861.9130\n",
       "Sports and travel       55122.8265"
      ]
     },
     "execution_count": 10,
     "metadata": {},
     "output_type": "execute_result"
    }
   ],
   "source": [
    "pivot=supermarket_sales.pivot_table( 'Total', ['Product line'],aggfunc=[np.sum])\n",
    "pivot"
   ]
  },
  {
   "cell_type": "code",
   "execution_count": 11,
   "metadata": {
    "colab": {
     "base_uri": "https://localhost:8080/",
     "height": 248
    },
    "id": "7a3BFc4950na",
    "outputId": "75ffab1a-83bd-432d-9eea-ba3064e450c2"
   },
   "outputs": [
    {
     "data": {
      "image/png": "[encoded data removed]",
      "text/plain": [
       "<Figure size 432x288 with 1 Axes>"
      ]
     },
     "metadata": {},
     "output_type": "display_data"
    }
   ],
   "source": [
    "flattened = pd.DataFrame(pivot.to_records())\n",
    "flattened\n",
    "colors = ['c', 'g', 'y','r','b','m']\n",
    "\n",
    "plt.pie(flattened[\"('sum', 'Total')\"], labels=flattened['Product line'], colors=colors,\n",
    "        startangle=90,\n",
    "        autopct = '%1.2f%%')\n",
    "\n",
    "plt.axis('equal') # Try commenting this out.\n",
    "# plt.title('Pie Chart Example')\n",
    "plt.show()"
   ]
  },
  {
   "cell_type": "code",
   "execution_count": 12,
   "metadata": {
    "colab": {
     "base_uri": "https://localhost:8080/",
     "height": 235
    },
    "id": "rBcQbV47kMX3",
    "outputId": "2e129f52-63c9-484a-a1c9-7a338964064f"
   },
   "outputs": [
    {
     "data": {
      "text/html": [
       "<div>\n",
       "<style scoped>\n",
       "    .dataframe tbody tr th:only-of-type {\n",
       "        vertical-align: middle;\n",
       "    }\n",
       "\n",
       "    .dataframe tbody tr th {\n",
       "        vertical-align: top;\n",
       "    }\n",
       "\n",
       "    .dataframe thead th {\n",
       "        text-align: right;\n",
       "    }\n",
       "</style>\n",
       "<table border=\"1\" class=\"dataframe\">\n",
       "  <thead>\n",
       "    <tr style=\"text-align: right;\">\n",
       "      <th></th>\n",
       "      <th>Product line</th>\n",
       "      <th>Total sum</th>\n",
       "    </tr>\n",
       "  </thead>\n",
       "  <tbody>\n",
       "    <tr>\n",
       "      <th>0</th>\n",
       "      <td>Electronic accessories</td>\n",
       "      <td>54337.5315</td>\n",
       "    </tr>\n",
       "    <tr>\n",
       "      <th>1</th>\n",
       "      <td>Fashion accessories</td>\n",
       "      <td>54305.8950</td>\n",
       "    </tr>\n",
       "    <tr>\n",
       "      <th>2</th>\n",
       "      <td>Food and beverages</td>\n",
       "      <td>56144.8440</td>\n",
       "    </tr>\n",
       "    <tr>\n",
       "      <th>3</th>\n",
       "      <td>Health and beauty</td>\n",
       "      <td>49193.7390</td>\n",
       "    </tr>\n",
       "    <tr>\n",
       "      <th>4</th>\n",
       "      <td>Home and lifestyle</td>\n",
       "      <td>53861.9130</td>\n",
       "    </tr>\n",
       "    <tr>\n",
       "      <th>5</th>\n",
       "      <td>Sports and travel</td>\n",
       "      <td>55122.8265</td>\n",
       "    </tr>\n",
       "  </tbody>\n",
       "</table>\n",
       "</div>"
      ],
      "text/plain": [
       "             Product line   Total sum\n",
       "0  Electronic accessories  54337.5315\n",
       "1     Fashion accessories  54305.8950\n",
       "2      Food and beverages  56144.8440\n",
       "3       Health and beauty  49193.7390\n",
       "4      Home and lifestyle  53861.9130\n",
       "5       Sports and travel  55122.8265"
      ]
     },
     "execution_count": 12,
     "metadata": {},
     "output_type": "execute_result"
    }
   ],
   "source": [
    "flattened.rename(columns = {\"('sum', 'Total')\":'Total sum'}, inplace = True) \n",
    "flattened"
   ]
  },
  {
   "cell_type": "code",
   "execution_count": 13,
   "metadata": {
    "colab": {
     "base_uri": "https://localhost:8080/",
     "height": 396
    },
    "id": "Vrb-L2HVNnOo",
    "outputId": "d164b459-e03d-4c18-9a36-95835e967ddc"
   },
   "outputs": [
    {
     "data": {
      "image/png": "[encoded data removed]",
      "text/plain": [
       "<Figure size 432x288 with 1 Axes>"
      ]
     },
     "metadata": {
      "needs_background": "light"
     },
     "output_type": "display_data"
    }
   ],
   "source": [
    "plt.plot(flattened['Product line'], flattened['Total sum'], label=\"line L\")\n",
    "plt.plot()\n",
    "\n",
    "plt.xlabel(\"x axis\")\n",
    "plt.ylabel(\"y axis\")\n",
    "plt.title(\"Total sell of each product\")\n",
    "plt.xticks(rotation = 'vertical')\n",
    "plt.legend()\n",
    "plt.show()"
   ]
  },
  {
   "cell_type": "markdown",
   "metadata": {
    "id": "Sl3a3SdFYOmT"
   },
   "source": [
    "Summing up the totals for each month"
   ]
  },
  {
   "cell_type": "code",
   "execution_count": 14,
   "metadata": {
    "id": "4jv-UY2QBGw6"
   },
   "outputs": [],
   "source": [
    "x=(supermarket_sales.assign(Date=supermarket_sales.Date.dt.strftime('%m/%Y'))\n",
    "    .groupby(['Product line','Date'])\n",
    "    .sum()\n",
    "    .reset_index()\n",
    ")"
   ]
  },
  {
   "cell_type": "code",
   "execution_count": 15,
   "metadata": {
    "colab": {
     "base_uri": "https://localhost:8080/",
     "height": 210
    },
    "id": "YVp7kBAu1OrT",
    "outputId": "4979268d-73a8-4f12-9982-ba65a7ae0f1c"
   },
   "outputs": [
    {
     "data": {
      "text/html": [
       "<div>\n",
       "<style scoped>\n",
       "    .dataframe tbody tr th:only-of-type {\n",
       "        vertical-align: middle;\n",
       "    }\n",
       "\n",
       "    .dataframe tbody tr th {\n",
       "        vertical-align: top;\n",
       "    }\n",
       "\n",
       "    .dataframe thead th {\n",
       "        text-align: right;\n",
       "    }\n",
       "</style>\n",
       "<table border=\"1\" class=\"dataframe\">\n",
       "  <thead>\n",
       "    <tr style=\"text-align: right;\">\n",
       "      <th></th>\n",
       "      <th>Product line</th>\n",
       "      <th>Date</th>\n",
       "      <th>Unit price</th>\n",
       "      <th>Quantity</th>\n",
       "      <th>Tax 5%</th>\n",
       "      <th>Total</th>\n",
       "      <th>cogs</th>\n",
       "      <th>gross margin percentage</th>\n",
       "      <th>gross income</th>\n",
       "      <th>Rating</th>\n",
       "    </tr>\n",
       "  </thead>\n",
       "  <tbody>\n",
       "    <tr>\n",
       "      <th>6</th>\n",
       "      <td>Food and beverages</td>\n",
       "      <td>01/2019</td>\n",
       "      <td>3237.38</td>\n",
       "      <td>325</td>\n",
       "      <td>931.930</td>\n",
       "      <td>19570.530</td>\n",
       "      <td>18638.60</td>\n",
       "      <td>266.666667</td>\n",
       "      <td>931.930</td>\n",
       "      <td>414.7</td>\n",
       "    </tr>\n",
       "    <tr>\n",
       "      <th>7</th>\n",
       "      <td>Food and beverages</td>\n",
       "      <td>02/2019</td>\n",
       "      <td>3367.99</td>\n",
       "      <td>349</td>\n",
       "      <td>952.398</td>\n",
       "      <td>20000.358</td>\n",
       "      <td>19047.96</td>\n",
       "      <td>295.238095</td>\n",
       "      <td>952.398</td>\n",
       "      <td>434.8</td>\n",
       "    </tr>\n",
       "    <tr>\n",
       "      <th>8</th>\n",
       "      <td>Food and beverages</td>\n",
       "      <td>03/2019</td>\n",
       "      <td>3140.17</td>\n",
       "      <td>278</td>\n",
       "      <td>789.236</td>\n",
       "      <td>16573.956</td>\n",
       "      <td>15784.72</td>\n",
       "      <td>266.666667</td>\n",
       "      <td>789.236</td>\n",
       "      <td>388.2</td>\n",
       "    </tr>\n",
       "  </tbody>\n",
       "</table>\n",
       "</div>"
      ],
      "text/plain": [
       "         Product line     Date  Unit price  Quantity   Tax 5%      Total  \\\n",
       "6  Food and beverages  01/2019     3237.38       325  931.930  19570.530   \n",
       "7  Food and beverages  02/2019     3367.99       349  952.398  20000.358   \n",
       "8  Food and beverages  03/2019     3140.17       278  789.236  16573.956   \n",
       "\n",
       "       cogs  gross margin percentage  gross income  Rating  \n",
       "6  18638.60               266.666667       931.930   414.7  \n",
       "7  19047.96               295.238095       952.398   434.8  \n",
       "8  15784.72               266.666667       789.236   388.2  "
      ]
     },
     "execution_count": 15,
     "metadata": {},
     "output_type": "execute_result"
    }
   ],
   "source": [
    "health_beauty=x.loc[x['Product line'].isin(['Health and beauty'])]\n",
    "home=x.loc[x['Product line'].isin(['Home and lifestyle'])]\n",
    "food=x.loc[x['Product line'].isin(['Food and beverages'])]\n",
    "electronic=x.loc[x['Product line'].isin(['Electronic accessories'])]\n",
    "food "
   ]
  },
  {
   "cell_type": "code",
   "execution_count": 16,
   "metadata": {
    "colab": {
     "base_uri": "https://localhost:8080/",
     "height": 296
    },
    "id": "rUT0oDrygROT",
    "outputId": "1b720e8e-02ef-4f7c-837d-a45a55cc9a0b"
   },
   "outputs": [
    {
     "data": {
      "text/plain": [
       "<AxesSubplot:xlabel='Date'>"
      ]
     },
     "execution_count": 16,
     "metadata": {},
     "output_type": "execute_result"
    },
    {
     "data": {
      "image/png": "[encoded data removed]",
      "text/plain": [
       "<Figure size 432x288 with 1 Axes>"
      ]
     },
     "metadata": {
      "needs_background": "light"
     },
     "output_type": "display_data"
    }
   ],
   "source": [
    "food.pivot_table( 'Total', ['Date'], 'Product line').dropna().plot()"
   ]
  },
  {
   "cell_type": "markdown",
   "metadata": {
    "id": "7qEyUyDYXyu6"
   },
   "source": [
    "We can observe the above plot is not profecient with our evaluation since it contains data of just the first three months of 2019. This can be limiting be plotting a time series chart."
   ]
  },
  {
   "cell_type": "markdown",
   "metadata": {
    "id": "leB6ZBBU6cXu"
   },
   "source": [
    "## **Market After COVID19**\n",
    "---\n",
    "\n",
    "\n"
   ]
  },
  {
   "cell_type": "markdown",
   "metadata": {
    "id": "2wNX4FcnYkM8"
   },
   "source": [
    "### *Data:  NAFDAQ Stocks*"
   ]
  },
  {
   "cell_type": "markdown",
   "metadata": {
    "id": "6vulWofIZGIv"
   },
   "source": [
    "## Cleaning"
   ]
  },
  {
   "cell_type": "code",
   "execution_count": 17,
   "metadata": {
    "colab": {
     "base_uri": "https://localhost:8080/",
     "height": 204
    },
    "id": "Q_gd4V0u2HSg",
    "outputId": "926ba984-f056-4f83-89ef-3e8323393024"
   },
   "outputs": [
    {
     "data": {
      "text/html": [
       "<div>\n",
       "<style scoped>\n",
       "    .dataframe tbody tr th:only-of-type {\n",
       "        vertical-align: middle;\n",
       "    }\n",
       "\n",
       "    .dataframe tbody tr th {\n",
       "        vertical-align: top;\n",
       "    }\n",
       "\n",
       "    .dataframe thead th {\n",
       "        text-align: right;\n",
       "    }\n",
       "</style>\n",
       "<table border=\"1\" class=\"dataframe\">\n",
       "  <thead>\n",
       "    <tr style=\"text-align: right;\">\n",
       "      <th></th>\n",
       "      <th>Date</th>\n",
       "      <th>Open</th>\n",
       "      <th>High</th>\n",
       "      <th>Low</th>\n",
       "      <th>Close</th>\n",
       "      <th>Adj Close</th>\n",
       "      <th>Volume</th>\n",
       "    </tr>\n",
       "  </thead>\n",
       "  <tbody>\n",
       "    <tr>\n",
       "      <th>0</th>\n",
       "      <td>1/25/2017</td>\n",
       "      <td>5635.859863</td>\n",
       "      <td>5658.589844</td>\n",
       "      <td>5634.330078</td>\n",
       "      <td>5656.339844</td>\n",
       "      <td>5656.339844</td>\n",
       "      <td>1959950000</td>\n",
       "    </tr>\n",
       "    <tr>\n",
       "      <th>1</th>\n",
       "      <td>1/26/2017</td>\n",
       "      <td>5666.279785</td>\n",
       "      <td>5669.609863</td>\n",
       "      <td>5647.649902</td>\n",
       "      <td>5655.180176</td>\n",
       "      <td>5655.180176</td>\n",
       "      <td>1827490000</td>\n",
       "    </tr>\n",
       "    <tr>\n",
       "      <th>2</th>\n",
       "      <td>1/27/2017</td>\n",
       "      <td>5664.879883</td>\n",
       "      <td>5667.450195</td>\n",
       "      <td>5643.899902</td>\n",
       "      <td>5660.779785</td>\n",
       "      <td>5660.779785</td>\n",
       "      <td>1663400000</td>\n",
       "    </tr>\n",
       "    <tr>\n",
       "      <th>3</th>\n",
       "      <td>1/30/2017</td>\n",
       "      <td>5635.859863</td>\n",
       "      <td>5636.089844</td>\n",
       "      <td>5578.759766</td>\n",
       "      <td>5613.709961</td>\n",
       "      <td>5613.709961</td>\n",
       "      <td>1777090000</td>\n",
       "    </tr>\n",
       "    <tr>\n",
       "      <th>4</th>\n",
       "      <td>1/31/2017</td>\n",
       "      <td>5592.870117</td>\n",
       "      <td>5615.149902</td>\n",
       "      <td>5576.089844</td>\n",
       "      <td>5614.790039</td>\n",
       "      <td>5614.790039</td>\n",
       "      <td>2041480000</td>\n",
       "    </tr>\n",
       "  </tbody>\n",
       "</table>\n",
       "</div>"
      ],
      "text/plain": [
       "        Date         Open         High          Low        Close    Adj Close  \\\n",
       "0  1/25/2017  5635.859863  5658.589844  5634.330078  5656.339844  5656.339844   \n",
       "1  1/26/2017  5666.279785  5669.609863  5647.649902  5655.180176  5655.180176   \n",
       "2  1/27/2017  5664.879883  5667.450195  5643.899902  5660.779785  5660.779785   \n",
       "3  1/30/2017  5635.859863  5636.089844  5578.759766  5613.709961  5613.709961   \n",
       "4  1/31/2017  5592.870117  5615.149902  5576.089844  5614.790039  5614.790039   \n",
       "\n",
       "       Volume  \n",
       "0  1959950000  \n",
       "1  1827490000  \n",
       "2  1663400000  \n",
       "3  1777090000  \n",
       "4  2041480000  "
      ]
     },
     "execution_count": 17,
     "metadata": {},
     "output_type": "execute_result"
    }
   ],
   "source": [
    "stock.head()"
   ]
  },
  {
   "cell_type": "code",
   "execution_count": 18,
   "metadata": {
    "colab": {
     "base_uri": "https://localhost:8080/",
     "height": 255
    },
    "id": "ZACx6tkhZJuc",
    "outputId": "a077f126-c93d-4219-ce47-e4c6349d5d91"
   },
   "outputs": [
    {
     "name": "stdout",
     "output_type": "stream",
     "text": [
      "<class 'pandas.core.frame.DataFrame'>\n",
      "RangeIndex: 1070 entries, 0 to 1069\n",
      "Data columns (total 7 columns):\n",
      " #   Column     Non-Null Count  Dtype  \n",
      "---  ------     --------------  -----  \n",
      " 0   Date       1070 non-null   object \n",
      " 1   Open       1070 non-null   float64\n",
      " 2   High       1070 non-null   float64\n",
      " 3   Low        1070 non-null   float64\n",
      " 4   Close      1070 non-null   float64\n",
      " 5   Adj Close  1070 non-null   float64\n",
      " 6   Volume     1070 non-null   int64  \n",
      "dtypes: float64(5), int64(1), object(1)\n",
      "memory usage: 58.6+ KB\n"
     ]
    }
   ],
   "source": [
    "stock.info()"
   ]
  },
  {
   "cell_type": "code",
   "execution_count": 19,
   "metadata": {
    "colab": {
     "base_uri": "https://localhost:8080/",
     "height": 297
    },
    "id": "HzqFDcb4Z8wo",
    "outputId": "33f5bd25-71db-420e-dd82-d4246f37eae9"
   },
   "outputs": [
    {
     "data": {
      "text/html": [
       "<div>\n",
       "<style scoped>\n",
       "    .dataframe tbody tr th:only-of-type {\n",
       "        vertical-align: middle;\n",
       "    }\n",
       "\n",
       "    .dataframe tbody tr th {\n",
       "        vertical-align: top;\n",
       "    }\n",
       "\n",
       "    .dataframe thead th {\n",
       "        text-align: right;\n",
       "    }\n",
       "</style>\n",
       "<table border=\"1\" class=\"dataframe\">\n",
       "  <thead>\n",
       "    <tr style=\"text-align: right;\">\n",
       "      <th></th>\n",
       "      <th>Open</th>\n",
       "      <th>High</th>\n",
       "      <th>Low</th>\n",
       "      <th>Close</th>\n",
       "      <th>Adj Close</th>\n",
       "      <th>Volume</th>\n",
       "    </tr>\n",
       "  </thead>\n",
       "  <tbody>\n",
       "    <tr>\n",
       "      <th>count</th>\n",
       "      <td>1070.000000</td>\n",
       "      <td>1070.000000</td>\n",
       "      <td>1070.000000</td>\n",
       "      <td>1070.000000</td>\n",
       "      <td>1070.000000</td>\n",
       "      <td>1.070000e+03</td>\n",
       "    </tr>\n",
       "    <tr>\n",
       "      <th>mean</th>\n",
       "      <td>8388.902622</td>\n",
       "      <td>8442.579559</td>\n",
       "      <td>8328.740550</td>\n",
       "      <td>8390.657070</td>\n",
       "      <td>8390.657070</td>\n",
       "      <td>2.836754e+09</td>\n",
       "    </tr>\n",
       "    <tr>\n",
       "      <th>std</th>\n",
       "      <td>2130.588801</td>\n",
       "      <td>2148.536526</td>\n",
       "      <td>2106.820574</td>\n",
       "      <td>2130.449402</td>\n",
       "      <td>2130.449402</td>\n",
       "      <td>1.422381e+09</td>\n",
       "    </tr>\n",
       "    <tr>\n",
       "      <th>min</th>\n",
       "      <td>5592.870117</td>\n",
       "      <td>5615.149902</td>\n",
       "      <td>5576.089844</td>\n",
       "      <td>5613.709961</td>\n",
       "      <td>5613.709961</td>\n",
       "      <td>1.494100e+08</td>\n",
       "    </tr>\n",
       "    <tr>\n",
       "      <th>25%</th>\n",
       "      <td>6979.530151</td>\n",
       "      <td>7038.244873</td>\n",
       "      <td>6924.802612</td>\n",
       "      <td>6971.672485</td>\n",
       "      <td>6971.672485</td>\n",
       "      <td>1.945085e+09</td>\n",
       "    </tr>\n",
       "    <tr>\n",
       "      <th>50%</th>\n",
       "      <td>7801.714844</td>\n",
       "      <td>7845.884766</td>\n",
       "      <td>7748.184814</td>\n",
       "      <td>7814.144775</td>\n",
       "      <td>7814.144775</td>\n",
       "      <td>2.236060e+09</td>\n",
       "    </tr>\n",
       "    <tr>\n",
       "      <th>75%</th>\n",
       "      <td>9185.617920</td>\n",
       "      <td>9240.239990</td>\n",
       "      <td>9080.875000</td>\n",
       "      <td>9148.032715</td>\n",
       "      <td>9148.032715</td>\n",
       "      <td>3.490122e+09</td>\n",
       "    </tr>\n",
       "    <tr>\n",
       "      <th>max</th>\n",
       "      <td>14152.209960</td>\n",
       "      <td>14175.120120</td>\n",
       "      <td>14019.500000</td>\n",
       "      <td>14138.780270</td>\n",
       "      <td>14138.780270</td>\n",
       "      <td>1.110216e+10</td>\n",
       "    </tr>\n",
       "  </tbody>\n",
       "</table>\n",
       "</div>"
      ],
      "text/plain": [
       "               Open          High           Low         Close     Adj Close  \\\n",
       "count   1070.000000   1070.000000   1070.000000   1070.000000   1070.000000   \n",
       "mean    8388.902622   8442.579559   8328.740550   8390.657070   8390.657070   \n",
       "std     2130.588801   2148.536526   2106.820574   2130.449402   2130.449402   \n",
       "min     5592.870117   5615.149902   5576.089844   5613.709961   5613.709961   \n",
       "25%     6979.530151   7038.244873   6924.802612   6971.672485   6971.672485   \n",
       "50%     7801.714844   7845.884766   7748.184814   7814.144775   7814.144775   \n",
       "75%     9185.617920   9240.239990   9080.875000   9148.032715   9148.032715   \n",
       "max    14152.209960  14175.120120  14019.500000  14138.780270  14138.780270   \n",
       "\n",
       "             Volume  \n",
       "count  1.070000e+03  \n",
       "mean   2.836754e+09  \n",
       "std    1.422381e+09  \n",
       "min    1.494100e+08  \n",
       "25%    1.945085e+09  \n",
       "50%    2.236060e+09  \n",
       "75%    3.490122e+09  \n",
       "max    1.110216e+10  "
      ]
     },
     "execution_count": 19,
     "metadata": {},
     "output_type": "execute_result"
    }
   ],
   "source": [
    "stock.describe()"
   ]
  },
  {
   "cell_type": "code",
   "execution_count": 20,
   "metadata": {
    "id": "MGcsSiId1Dw2"
   },
   "outputs": [],
   "source": [
    "stock['Date'] = pd.to_datetime(stock['Date'])"
   ]
  },
  {
   "cell_type": "markdown",
   "metadata": {
    "id": "DQY1V5-t47M8"
   },
   "source": [
    "## Visualizing Mean Stack Price over the year"
   ]
  },
  {
   "cell_type": "code",
   "execution_count": 21,
   "metadata": {
    "colab": {
     "base_uri": "https://localhost:8080/",
     "height": 344
    },
    "id": "CSqU8fsR0zva",
    "outputId": "ee3dade0-3d31-4693-949a-f129e0b00dd7"
   },
   "outputs": [
    {
     "data": {
      "text/plain": [
       "[<matplotlib.lines.Line2D at 0x2c892357d60>]"
      ]
     },
     "execution_count": 21,
     "metadata": {},
     "output_type": "execute_result"
    },
    {
     "data": {
      "image/png": "[encoded data removed]",
      "text/plain": [
       "<Figure size 432x288 with 1 Axes>"
      ]
     },
     "metadata": {
      "needs_background": "light"
     },
     "output_type": "display_data"
    }
   ],
   "source": [
    "mean_df = stock.groupby(['Date']).mean()\n",
    "plt.title('Mean price of the NASDAQ index')\n",
    "plt.xlabel('Date')\n",
    "plt.ylabel('Mean Price')\n",
    "plt.xticks(rotation = 'vertical')\n",
    "plt.plot(mean_df.index,mean_df['High'])"
   ]
  },
  {
   "cell_type": "markdown",
   "metadata": {
    "id": "1vC54Sr73tH-"
   },
   "source": [
    "Observe that there has been an abrupt downfall in the stocks after January 2020. Let’s drill it down further to see exactly when that happened."
   ]
  },
  {
   "cell_type": "code",
   "execution_count": 22,
   "metadata": {
    "colab": {
     "base_uri": "https://localhost:8080/",
     "height": 344
    },
    "id": "Swh0Hbfe5Nbf",
    "outputId": "4d7d67bf-bb3e-45b9-da5a-5608aaba5e11"
   },
   "outputs": [
    {
     "data": {
      "text/plain": [
       "[<matplotlib.lines.Line2D at 0x2c89239c640>]"
      ]
     },
     "execution_count": 22,
     "metadata": {},
     "output_type": "execute_result"
    },
    {
     "data": {
      "image/png": "[encoded data removed]",
      "text/plain": [
       "<Figure size 432x288 with 1 Axes>"
      ]
     },
     "metadata": {
      "needs_background": "light"
     },
     "output_type": "display_data"
    }
   ],
   "source": [
    "mean_df = mean_df.loc[mean_df.index > '2020-01-01'].copy()\n",
    "plt.title('Monthly Mean price of the NASDAQ 2020')\n",
    "plt.xlabel('Date')\n",
    "plt.ylabel('Mean Price')\n",
    "plt.xticks(rotation = 'vertical')\n",
    "plt.plot(mean_df.index,mean_df['High'])"
   ]
  },
  {
   "cell_type": "markdown",
   "metadata": {
    "id": "DC3ViLWf3zxO"
   },
   "source": [
    "Now we can see that the stocks went down in the midst of February 2020 only after Quarter past March it was able to recover itself. We already know that the first case that hit US was at January 13, 2020. \n",
    "As can be seen that the mean price of the companies listed in the NASDAQ plummet at around February 2020. It went from around 9700 to 7000 within a month, approximately 28% decrease. This could be a coincidence but there is a really high chance that it is in fact influenced by the pandemic. However, the question arises why it happened so late. We expected it should happen around January since the first case appeared at that time. The initial guess could be that people there were still careless about it.\n"
   ]
  },
  {
   "cell_type": "markdown",
   "metadata": {
    "id": "B3y3KroOk5eH"
   },
   "source": [
    "### Which industry got impacted the most?"
   ]
  },
  {
   "cell_type": "markdown",
   "metadata": {
    "id": "VYYWsH_lpCHp"
   },
   "source": [
    "## Data Cleaning and Preparation"
   ]
  },
  {
   "cell_type": "code",
   "execution_count": 23,
   "metadata": {
    "colab": {
     "base_uri": "https://localhost:8080/",
     "height": 170
    },
    "id": "DzTEf9TAeozh",
    "outputId": "752c5789-b09f-498c-e2e6-28c7e1e3583c"
   },
   "outputs": [
    {
     "name": "stdout",
     "output_type": "stream",
     "text": [
      "<class 'pandas.core.frame.DataFrame'>\n",
      "RangeIndex: 62 entries, 0 to 61\n",
      "Data columns (total 2 columns):\n",
      " #   Column           Non-Null Count  Dtype  \n",
      "---  ------           --------------  -----  \n",
      " 0   DATE             62 non-null     object \n",
      " 1   DFXARC1M027SBEA  62 non-null     float64\n",
      "dtypes: float64(1), object(1)\n",
      "memory usage: 1.1+ KB\n"
     ]
    }
   ],
   "source": [
    "pce_food.info()"
   ]
  },
  {
   "cell_type": "code",
   "execution_count": 24,
   "metadata": {
    "colab": {
     "base_uri": "https://localhost:8080/",
     "height": 419
    },
    "id": "Wbds2qXSk_ll",
    "outputId": "678c7bdd-9aa9-4933-a4d4-d30fee683bd9"
   },
   "outputs": [
    {
     "data": {
      "text/html": [
       "<div>\n",
       "<style scoped>\n",
       "    .dataframe tbody tr th:only-of-type {\n",
       "        vertical-align: middle;\n",
       "    }\n",
       "\n",
       "    .dataframe tbody tr th {\n",
       "        vertical-align: top;\n",
       "    }\n",
       "\n",
       "    .dataframe thead th {\n",
       "        text-align: right;\n",
       "    }\n",
       "</style>\n",
       "<table border=\"1\" class=\"dataframe\">\n",
       "  <thead>\n",
       "    <tr style=\"text-align: right;\">\n",
       "      <th></th>\n",
       "      <th>DATE</th>\n",
       "      <th>PCEDG</th>\n",
       "    </tr>\n",
       "  </thead>\n",
       "  <tbody>\n",
       "    <tr>\n",
       "      <th>0</th>\n",
       "      <td>1/1/2016</td>\n",
       "      <td>1321.1</td>\n",
       "    </tr>\n",
       "    <tr>\n",
       "      <th>1</th>\n",
       "      <td>2/1/2016</td>\n",
       "      <td>1342.4</td>\n",
       "    </tr>\n",
       "    <tr>\n",
       "      <th>2</th>\n",
       "      <td>3/1/2016</td>\n",
       "      <td>1329.4</td>\n",
       "    </tr>\n",
       "    <tr>\n",
       "      <th>3</th>\n",
       "      <td>4/1/2016</td>\n",
       "      <td>1331.5</td>\n",
       "    </tr>\n",
       "    <tr>\n",
       "      <th>4</th>\n",
       "      <td>5/1/2016</td>\n",
       "      <td>1335.4</td>\n",
       "    </tr>\n",
       "    <tr>\n",
       "      <th>...</th>\n",
       "      <td>...</td>\n",
       "      <td>...</td>\n",
       "    </tr>\n",
       "    <tr>\n",
       "      <th>57</th>\n",
       "      <td>10/1/2020</td>\n",
       "      <td>1788.7</td>\n",
       "    </tr>\n",
       "    <tr>\n",
       "      <th>58</th>\n",
       "      <td>11/1/2020</td>\n",
       "      <td>1747.6</td>\n",
       "    </tr>\n",
       "    <tr>\n",
       "      <th>59</th>\n",
       "      <td>12/1/2020</td>\n",
       "      <td>1707.9</td>\n",
       "    </tr>\n",
       "    <tr>\n",
       "      <th>60</th>\n",
       "      <td>1/1/2021</td>\n",
       "      <td>1910.5</td>\n",
       "    </tr>\n",
       "    <tr>\n",
       "      <th>61</th>\n",
       "      <td>2/1/2021</td>\n",
       "      <td>1820.3</td>\n",
       "    </tr>\n",
       "  </tbody>\n",
       "</table>\n",
       "<p>62 rows × 2 columns</p>\n",
       "</div>"
      ],
      "text/plain": [
       "         DATE   PCEDG\n",
       "0    1/1/2016  1321.1\n",
       "1    2/1/2016  1342.4\n",
       "2    3/1/2016  1329.4\n",
       "3    4/1/2016  1331.5\n",
       "4    5/1/2016  1335.4\n",
       "..        ...     ...\n",
       "57  10/1/2020  1788.7\n",
       "58  11/1/2020  1747.6\n",
       "59  12/1/2020  1707.9\n",
       "60   1/1/2021  1910.5\n",
       "61   2/1/2021  1820.3\n",
       "\n",
       "[62 rows x 2 columns]"
      ]
     },
     "execution_count": 24,
     "metadata": {},
     "output_type": "execute_result"
    }
   ],
   "source": [
    "pce_durable"
   ]
  },
  {
   "cell_type": "code",
   "execution_count": 25,
   "metadata": {
    "colab": {
     "base_uri": "https://localhost:8080/",
     "height": 419
    },
    "id": "GeFwCscRpzUU",
    "outputId": "c2e15262-86a5-4524-fe89-92d25e21debc"
   },
   "outputs": [
    {
     "data": {
      "text/html": [
       "<div>\n",
       "<style scoped>\n",
       "    .dataframe tbody tr th:only-of-type {\n",
       "        vertical-align: middle;\n",
       "    }\n",
       "\n",
       "    .dataframe tbody tr th {\n",
       "        vertical-align: top;\n",
       "    }\n",
       "\n",
       "    .dataframe thead th {\n",
       "        text-align: right;\n",
       "    }\n",
       "</style>\n",
       "<table border=\"1\" class=\"dataframe\">\n",
       "  <thead>\n",
       "    <tr style=\"text-align: right;\">\n",
       "      <th></th>\n",
       "      <th>DATE</th>\n",
       "      <th>PCEND</th>\n",
       "    </tr>\n",
       "  </thead>\n",
       "  <tbody>\n",
       "    <tr>\n",
       "      <th>0</th>\n",
       "      <td>1/1/2016</td>\n",
       "      <td>2609.1</td>\n",
       "    </tr>\n",
       "    <tr>\n",
       "      <th>1</th>\n",
       "      <td>2/1/2016</td>\n",
       "      <td>2608.2</td>\n",
       "    </tr>\n",
       "    <tr>\n",
       "      <th>2</th>\n",
       "      <td>3/1/2016</td>\n",
       "      <td>2606.9</td>\n",
       "    </tr>\n",
       "    <tr>\n",
       "      <th>3</th>\n",
       "      <td>4/1/2016</td>\n",
       "      <td>2632.3</td>\n",
       "    </tr>\n",
       "    <tr>\n",
       "      <th>4</th>\n",
       "      <td>5/1/2016</td>\n",
       "      <td>2645.3</td>\n",
       "    </tr>\n",
       "    <tr>\n",
       "      <th>...</th>\n",
       "      <td>...</td>\n",
       "      <td>...</td>\n",
       "    </tr>\n",
       "    <tr>\n",
       "      <th>57</th>\n",
       "      <td>10/1/2020</td>\n",
       "      <td>3134.1</td>\n",
       "    </tr>\n",
       "    <tr>\n",
       "      <th>58</th>\n",
       "      <td>11/1/2020</td>\n",
       "      <td>3114.5</td>\n",
       "    </tr>\n",
       "    <tr>\n",
       "      <th>59</th>\n",
       "      <td>12/1/2020</td>\n",
       "      <td>3064.4</td>\n",
       "    </tr>\n",
       "    <tr>\n",
       "      <th>60</th>\n",
       "      <td>1/1/2021</td>\n",
       "      <td>3264.3</td>\n",
       "    </tr>\n",
       "    <tr>\n",
       "      <th>61</th>\n",
       "      <td>2/1/2021</td>\n",
       "      <td>3198.7</td>\n",
       "    </tr>\n",
       "  </tbody>\n",
       "</table>\n",
       "<p>62 rows × 2 columns</p>\n",
       "</div>"
      ],
      "text/plain": [
       "         DATE   PCEND\n",
       "0    1/1/2016  2609.1\n",
       "1    2/1/2016  2608.2\n",
       "2    3/1/2016  2606.9\n",
       "3    4/1/2016  2632.3\n",
       "4    5/1/2016  2645.3\n",
       "..        ...     ...\n",
       "57  10/1/2020  3134.1\n",
       "58  11/1/2020  3114.5\n",
       "59  12/1/2020  3064.4\n",
       "60   1/1/2021  3264.3\n",
       "61   2/1/2021  3198.7\n",
       "\n",
       "[62 rows x 2 columns]"
      ]
     },
     "execution_count": 25,
     "metadata": {},
     "output_type": "execute_result"
    }
   ],
   "source": [
    "pce_nondurable"
   ]
  },
  {
   "cell_type": "code",
   "execution_count": 26,
   "metadata": {
    "colab": {
     "base_uri": "https://localhost:8080/",
     "height": 419
    },
    "id": "awA2mJq9p07X",
    "outputId": "0145e2fb-9a6b-4d51-92bf-26d5edaa2f9b"
   },
   "outputs": [
    {
     "data": {
      "text/html": [
       "<div>\n",
       "<style scoped>\n",
       "    .dataframe tbody tr th:only-of-type {\n",
       "        vertical-align: middle;\n",
       "    }\n",
       "\n",
       "    .dataframe tbody tr th {\n",
       "        vertical-align: top;\n",
       "    }\n",
       "\n",
       "    .dataframe thead th {\n",
       "        text-align: right;\n",
       "    }\n",
       "</style>\n",
       "<table border=\"1\" class=\"dataframe\">\n",
       "  <thead>\n",
       "    <tr style=\"text-align: right;\">\n",
       "      <th></th>\n",
       "      <th>DATE</th>\n",
       "      <th>DFXARC1M027SBEA</th>\n",
       "    </tr>\n",
       "  </thead>\n",
       "  <tbody>\n",
       "    <tr>\n",
       "      <th>0</th>\n",
       "      <td>1/1/2016</td>\n",
       "      <td>929.0</td>\n",
       "    </tr>\n",
       "    <tr>\n",
       "      <th>1</th>\n",
       "      <td>2/1/2016</td>\n",
       "      <td>935.8</td>\n",
       "    </tr>\n",
       "    <tr>\n",
       "      <th>2</th>\n",
       "      <td>3/1/2016</td>\n",
       "      <td>928.8</td>\n",
       "    </tr>\n",
       "    <tr>\n",
       "      <th>3</th>\n",
       "      <td>4/1/2016</td>\n",
       "      <td>937.6</td>\n",
       "    </tr>\n",
       "    <tr>\n",
       "      <th>4</th>\n",
       "      <td>5/1/2016</td>\n",
       "      <td>941.5</td>\n",
       "    </tr>\n",
       "    <tr>\n",
       "      <th>...</th>\n",
       "      <td>...</td>\n",
       "      <td>...</td>\n",
       "    </tr>\n",
       "    <tr>\n",
       "      <th>57</th>\n",
       "      <td>10/1/2020</td>\n",
       "      <td>1138.7</td>\n",
       "    </tr>\n",
       "    <tr>\n",
       "      <th>58</th>\n",
       "      <td>11/1/2020</td>\n",
       "      <td>1151.1</td>\n",
       "    </tr>\n",
       "    <tr>\n",
       "      <th>59</th>\n",
       "      <td>12/1/2020</td>\n",
       "      <td>1126.2</td>\n",
       "    </tr>\n",
       "    <tr>\n",
       "      <th>60</th>\n",
       "      <td>1/1/2021</td>\n",
       "      <td>1192.2</td>\n",
       "    </tr>\n",
       "    <tr>\n",
       "      <th>61</th>\n",
       "      <td>2/1/2021</td>\n",
       "      <td>1174.1</td>\n",
       "    </tr>\n",
       "  </tbody>\n",
       "</table>\n",
       "<p>62 rows × 2 columns</p>\n",
       "</div>"
      ],
      "text/plain": [
       "         DATE  DFXARC1M027SBEA\n",
       "0    1/1/2016            929.0\n",
       "1    2/1/2016            935.8\n",
       "2    3/1/2016            928.8\n",
       "3    4/1/2016            937.6\n",
       "4    5/1/2016            941.5\n",
       "..        ...              ...\n",
       "57  10/1/2020           1138.7\n",
       "58  11/1/2020           1151.1\n",
       "59  12/1/2020           1126.2\n",
       "60   1/1/2021           1192.2\n",
       "61   2/1/2021           1174.1\n",
       "\n",
       "[62 rows x 2 columns]"
      ]
     },
     "execution_count": 26,
     "metadata": {},
     "output_type": "execute_result"
    }
   ],
   "source": [
    "pce_food"
   ]
  },
  {
   "cell_type": "code",
   "execution_count": 27,
   "metadata": {
    "colab": {
     "base_uri": "https://localhost:8080/",
     "height": 419
    },
    "id": "uB2sqtP_p2tG",
    "outputId": "c610d5d8-2573-4d2a-a29f-9d975fabc95f"
   },
   "outputs": [
    {
     "data": {
      "text/html": [
       "<div>\n",
       "<style scoped>\n",
       "    .dataframe tbody tr th:only-of-type {\n",
       "        vertical-align: middle;\n",
       "    }\n",
       "\n",
       "    .dataframe tbody tr th {\n",
       "        vertical-align: top;\n",
       "    }\n",
       "\n",
       "    .dataframe thead th {\n",
       "        text-align: right;\n",
       "    }\n",
       "</style>\n",
       "<table border=\"1\" class=\"dataframe\">\n",
       "  <thead>\n",
       "    <tr style=\"text-align: right;\">\n",
       "      <th></th>\n",
       "      <th>DATE</th>\n",
       "      <th>PCES</th>\n",
       "    </tr>\n",
       "  </thead>\n",
       "  <tbody>\n",
       "    <tr>\n",
       "      <th>0</th>\n",
       "      <td>1/1/2016</td>\n",
       "      <td>8575.7</td>\n",
       "    </tr>\n",
       "    <tr>\n",
       "      <th>1</th>\n",
       "      <td>2/1/2016</td>\n",
       "      <td>8628.7</td>\n",
       "    </tr>\n",
       "    <tr>\n",
       "      <th>2</th>\n",
       "      <td>3/1/2016</td>\n",
       "      <td>8633.4</td>\n",
       "    </tr>\n",
       "    <tr>\n",
       "      <th>3</th>\n",
       "      <td>4/1/2016</td>\n",
       "      <td>8685.6</td>\n",
       "    </tr>\n",
       "    <tr>\n",
       "      <th>4</th>\n",
       "      <td>5/1/2016</td>\n",
       "      <td>8715.4</td>\n",
       "    </tr>\n",
       "    <tr>\n",
       "      <th>...</th>\n",
       "      <td>...</td>\n",
       "      <td>...</td>\n",
       "    </tr>\n",
       "    <tr>\n",
       "      <th>57</th>\n",
       "      <td>10/1/2020</td>\n",
       "      <td>9704.3</td>\n",
       "    </tr>\n",
       "    <tr>\n",
       "      <th>58</th>\n",
       "      <td>11/1/2020</td>\n",
       "      <td>9670.7</td>\n",
       "    </tr>\n",
       "    <tr>\n",
       "      <th>59</th>\n",
       "      <td>12/1/2020</td>\n",
       "      <td>9678.8</td>\n",
       "    </tr>\n",
       "    <tr>\n",
       "      <th>60</th>\n",
       "      <td>1/1/2021</td>\n",
       "      <td>9764.2</td>\n",
       "    </tr>\n",
       "    <tr>\n",
       "      <th>61</th>\n",
       "      <td>2/1/2021</td>\n",
       "      <td>9771.2</td>\n",
       "    </tr>\n",
       "  </tbody>\n",
       "</table>\n",
       "<p>62 rows × 2 columns</p>\n",
       "</div>"
      ],
      "text/plain": [
       "         DATE    PCES\n",
       "0    1/1/2016  8575.7\n",
       "1    2/1/2016  8628.7\n",
       "2    3/1/2016  8633.4\n",
       "3    4/1/2016  8685.6\n",
       "4    5/1/2016  8715.4\n",
       "..        ...     ...\n",
       "57  10/1/2020  9704.3\n",
       "58  11/1/2020  9670.7\n",
       "59  12/1/2020  9678.8\n",
       "60   1/1/2021  9764.2\n",
       "61   2/1/2021  9771.2\n",
       "\n",
       "[62 rows x 2 columns]"
      ]
     },
     "execution_count": 27,
     "metadata": {},
     "output_type": "execute_result"
    }
   ],
   "source": [
    "pce_services"
   ]
  },
  {
   "cell_type": "code",
   "execution_count": 28,
   "metadata": {
    "colab": {
     "base_uri": "https://localhost:8080/",
     "height": 1000
    },
    "id": "1ta-BYzep4_o",
    "outputId": "80d94f7f-97b6-4738-f1ae-e9ab83572e57"
   },
   "outputs": [
    {
     "data": {
      "text/html": [
       "<div>\n",
       "<style scoped>\n",
       "    .dataframe tbody tr th:only-of-type {\n",
       "        vertical-align: middle;\n",
       "    }\n",
       "\n",
       "    .dataframe tbody tr th {\n",
       "        vertical-align: top;\n",
       "    }\n",
       "\n",
       "    .dataframe thead th {\n",
       "        text-align: right;\n",
       "    }\n",
       "</style>\n",
       "<table border=\"1\" class=\"dataframe\">\n",
       "  <thead>\n",
       "    <tr style=\"text-align: right;\">\n",
       "      <th></th>\n",
       "      <th>DATE</th>\n",
       "      <th>W729RC1</th>\n",
       "    </tr>\n",
       "  </thead>\n",
       "  <tbody>\n",
       "    <tr>\n",
       "      <th>0</th>\n",
       "      <td>2016-01-01</td>\n",
       "      <td>547.6</td>\n",
       "    </tr>\n",
       "    <tr>\n",
       "      <th>1</th>\n",
       "      <td>2016-02-01</td>\n",
       "      <td>550.5</td>\n",
       "    </tr>\n",
       "    <tr>\n",
       "      <th>2</th>\n",
       "      <td>2016-03-01</td>\n",
       "      <td>553.2</td>\n",
       "    </tr>\n",
       "    <tr>\n",
       "      <th>3</th>\n",
       "      <td>2016-04-01</td>\n",
       "      <td>555.6</td>\n",
       "    </tr>\n",
       "    <tr>\n",
       "      <th>4</th>\n",
       "      <td>2016-05-01</td>\n",
       "      <td>559.2</td>\n",
       "    </tr>\n",
       "    <tr>\n",
       "      <th>5</th>\n",
       "      <td>2016-06-01</td>\n",
       "      <td>561.5</td>\n",
       "    </tr>\n",
       "    <tr>\n",
       "      <th>6</th>\n",
       "      <td>2016-07-01</td>\n",
       "      <td>563.5</td>\n",
       "    </tr>\n",
       "    <tr>\n",
       "      <th>7</th>\n",
       "      <td>2016-08-01</td>\n",
       "      <td>566.2</td>\n",
       "    </tr>\n",
       "    <tr>\n",
       "      <th>8</th>\n",
       "      <td>2016-09-01</td>\n",
       "      <td>569.6</td>\n",
       "    </tr>\n",
       "    <tr>\n",
       "      <th>9</th>\n",
       "      <td>2016-10-01</td>\n",
       "      <td>574.0</td>\n",
       "    </tr>\n",
       "    <tr>\n",
       "      <th>10</th>\n",
       "      <td>2016-11-01</td>\n",
       "      <td>575.9</td>\n",
       "    </tr>\n",
       "    <tr>\n",
       "      <th>11</th>\n",
       "      <td>2016-12-01</td>\n",
       "      <td>575.8</td>\n",
       "    </tr>\n",
       "    <tr>\n",
       "      <th>12</th>\n",
       "      <td>2017-01-01</td>\n",
       "      <td>575.0</td>\n",
       "    </tr>\n",
       "    <tr>\n",
       "      <th>13</th>\n",
       "      <td>2017-02-01</td>\n",
       "      <td>572.5</td>\n",
       "    </tr>\n",
       "    <tr>\n",
       "      <th>14</th>\n",
       "      <td>2017-03-01</td>\n",
       "      <td>569.7</td>\n",
       "    </tr>\n",
       "    <tr>\n",
       "      <th>15</th>\n",
       "      <td>2017-04-01</td>\n",
       "      <td>566.6</td>\n",
       "    </tr>\n",
       "    <tr>\n",
       "      <th>16</th>\n",
       "      <td>2017-05-01</td>\n",
       "      <td>566.8</td>\n",
       "    </tr>\n",
       "    <tr>\n",
       "      <th>17</th>\n",
       "      <td>2017-06-01</td>\n",
       "      <td>570.3</td>\n",
       "    </tr>\n",
       "    <tr>\n",
       "      <th>18</th>\n",
       "      <td>2017-07-01</td>\n",
       "      <td>576.8</td>\n",
       "    </tr>\n",
       "    <tr>\n",
       "      <th>19</th>\n",
       "      <td>2017-08-01</td>\n",
       "      <td>579.9</td>\n",
       "    </tr>\n",
       "    <tr>\n",
       "      <th>20</th>\n",
       "      <td>2017-09-01</td>\n",
       "      <td>579.8</td>\n",
       "    </tr>\n",
       "    <tr>\n",
       "      <th>21</th>\n",
       "      <td>2017-10-01</td>\n",
       "      <td>576.6</td>\n",
       "    </tr>\n",
       "    <tr>\n",
       "      <th>22</th>\n",
       "      <td>2017-11-01</td>\n",
       "      <td>575.0</td>\n",
       "    </tr>\n",
       "    <tr>\n",
       "      <th>23</th>\n",
       "      <td>2017-12-01</td>\n",
       "      <td>575.8</td>\n",
       "    </tr>\n",
       "    <tr>\n",
       "      <th>24</th>\n",
       "      <td>2018-01-01</td>\n",
       "      <td>578.4</td>\n",
       "    </tr>\n",
       "    <tr>\n",
       "      <th>25</th>\n",
       "      <td>2018-02-01</td>\n",
       "      <td>581.7</td>\n",
       "    </tr>\n",
       "    <tr>\n",
       "      <th>26</th>\n",
       "      <td>2018-03-01</td>\n",
       "      <td>585.4</td>\n",
       "    </tr>\n",
       "    <tr>\n",
       "      <th>27</th>\n",
       "      <td>2018-04-01</td>\n",
       "      <td>589.6</td>\n",
       "    </tr>\n",
       "    <tr>\n",
       "      <th>28</th>\n",
       "      <td>2018-05-01</td>\n",
       "      <td>593.1</td>\n",
       "    </tr>\n",
       "    <tr>\n",
       "      <th>29</th>\n",
       "      <td>2018-06-01</td>\n",
       "      <td>595.0</td>\n",
       "    </tr>\n",
       "    <tr>\n",
       "      <th>30</th>\n",
       "      <td>2018-07-01</td>\n",
       "      <td>596.1</td>\n",
       "    </tr>\n",
       "    <tr>\n",
       "      <th>31</th>\n",
       "      <td>2018-08-01</td>\n",
       "      <td>595.7</td>\n",
       "    </tr>\n",
       "    <tr>\n",
       "      <th>32</th>\n",
       "      <td>2018-09-01</td>\n",
       "      <td>593.6</td>\n",
       "    </tr>\n",
       "    <tr>\n",
       "      <th>33</th>\n",
       "      <td>2018-10-01</td>\n",
       "      <td>590.0</td>\n",
       "    </tr>\n",
       "    <tr>\n",
       "      <th>34</th>\n",
       "      <td>2018-11-01</td>\n",
       "      <td>589.0</td>\n",
       "    </tr>\n",
       "    <tr>\n",
       "      <th>35</th>\n",
       "      <td>2018-12-01</td>\n",
       "      <td>590.4</td>\n",
       "    </tr>\n",
       "    <tr>\n",
       "      <th>36</th>\n",
       "      <td>2019-01-01</td>\n",
       "      <td>594.5</td>\n",
       "    </tr>\n",
       "    <tr>\n",
       "      <th>37</th>\n",
       "      <td>2019-02-01</td>\n",
       "      <td>599.0</td>\n",
       "    </tr>\n",
       "    <tr>\n",
       "      <th>38</th>\n",
       "      <td>2019-03-01</td>\n",
       "      <td>604.5</td>\n",
       "    </tr>\n",
       "    <tr>\n",
       "      <th>39</th>\n",
       "      <td>2019-04-01</td>\n",
       "      <td>610.3</td>\n",
       "    </tr>\n",
       "    <tr>\n",
       "      <th>40</th>\n",
       "      <td>2019-05-01</td>\n",
       "      <td>615.2</td>\n",
       "    </tr>\n",
       "    <tr>\n",
       "      <th>41</th>\n",
       "      <td>2019-06-01</td>\n",
       "      <td>619.5</td>\n",
       "    </tr>\n",
       "    <tr>\n",
       "      <th>42</th>\n",
       "      <td>2019-07-01</td>\n",
       "      <td>621.8</td>\n",
       "    </tr>\n",
       "    <tr>\n",
       "      <th>43</th>\n",
       "      <td>2019-08-01</td>\n",
       "      <td>622.7</td>\n",
       "    </tr>\n",
       "    <tr>\n",
       "      <th>44</th>\n",
       "      <td>2019-09-01</td>\n",
       "      <td>622.2</td>\n",
       "    </tr>\n",
       "    <tr>\n",
       "      <th>45</th>\n",
       "      <td>2019-10-01</td>\n",
       "      <td>619.8</td>\n",
       "    </tr>\n",
       "    <tr>\n",
       "      <th>46</th>\n",
       "      <td>2019-11-01</td>\n",
       "      <td>618.7</td>\n",
       "    </tr>\n",
       "    <tr>\n",
       "      <th>47</th>\n",
       "      <td>2019-12-01</td>\n",
       "      <td>619.6</td>\n",
       "    </tr>\n",
       "    <tr>\n",
       "      <th>48</th>\n",
       "      <td>2020-01-01</td>\n",
       "      <td>615.8</td>\n",
       "    </tr>\n",
       "    <tr>\n",
       "      <th>49</th>\n",
       "      <td>2020-02-01</td>\n",
       "      <td>620.8</td>\n",
       "    </tr>\n",
       "    <tr>\n",
       "      <th>50</th>\n",
       "      <td>2020-03-01</td>\n",
       "      <td>635.7</td>\n",
       "    </tr>\n",
       "    <tr>\n",
       "      <th>51</th>\n",
       "      <td>2020-04-01</td>\n",
       "      <td>660.9</td>\n",
       "    </tr>\n",
       "    <tr>\n",
       "      <th>52</th>\n",
       "      <td>2020-05-01</td>\n",
       "      <td>677.6</td>\n",
       "    </tr>\n",
       "    <tr>\n",
       "      <th>53</th>\n",
       "      <td>2020-06-01</td>\n",
       "      <td>686.1</td>\n",
       "    </tr>\n",
       "  </tbody>\n",
       "</table>\n",
       "</div>"
      ],
      "text/plain": [
       "          DATE  W729RC1\n",
       "0   2016-01-01    547.6\n",
       "1   2016-02-01    550.5\n",
       "2   2016-03-01    553.2\n",
       "3   2016-04-01    555.6\n",
       "4   2016-05-01    559.2\n",
       "5   2016-06-01    561.5\n",
       "6   2016-07-01    563.5\n",
       "7   2016-08-01    566.2\n",
       "8   2016-09-01    569.6\n",
       "9   2016-10-01    574.0\n",
       "10  2016-11-01    575.9\n",
       "11  2016-12-01    575.8\n",
       "12  2017-01-01    575.0\n",
       "13  2017-02-01    572.5\n",
       "14  2017-03-01    569.7\n",
       "15  2017-04-01    566.6\n",
       "16  2017-05-01    566.8\n",
       "17  2017-06-01    570.3\n",
       "18  2017-07-01    576.8\n",
       "19  2017-08-01    579.9\n",
       "20  2017-09-01    579.8\n",
       "21  2017-10-01    576.6\n",
       "22  2017-11-01    575.0\n",
       "23  2017-12-01    575.8\n",
       "24  2018-01-01    578.4\n",
       "25  2018-02-01    581.7\n",
       "26  2018-03-01    585.4\n",
       "27  2018-04-01    589.6\n",
       "28  2018-05-01    593.1\n",
       "29  2018-06-01    595.0\n",
       "30  2018-07-01    596.1\n",
       "31  2018-08-01    595.7\n",
       "32  2018-09-01    593.6\n",
       "33  2018-10-01    590.0\n",
       "34  2018-11-01    589.0\n",
       "35  2018-12-01    590.4\n",
       "36  2019-01-01    594.5\n",
       "37  2019-02-01    599.0\n",
       "38  2019-03-01    604.5\n",
       "39  2019-04-01    610.3\n",
       "40  2019-05-01    615.2\n",
       "41  2019-06-01    619.5\n",
       "42  2019-07-01    621.8\n",
       "43  2019-08-01    622.7\n",
       "44  2019-09-01    622.2\n",
       "45  2019-10-01    619.8\n",
       "46  2019-11-01    618.7\n",
       "47  2019-12-01    619.6\n",
       "48  2020-01-01    615.8\n",
       "49  2020-02-01    620.8\n",
       "50  2020-03-01    635.7\n",
       "51  2020-04-01    660.9\n",
       "52  2020-05-01    677.6\n",
       "53  2020-06-01    686.1"
      ]
     },
     "execution_count": 28,
     "metadata": {},
     "output_type": "execute_result"
    }
   ],
   "source": [
    "pce_medicaid"
   ]
  },
  {
   "cell_type": "code",
   "execution_count": 29,
   "metadata": {
    "colab": {
     "base_uri": "https://localhost:8080/",
     "height": 68
    },
    "id": "ZkxD1IfplixI",
    "outputId": "8d7b7668-4159-449a-c599-5e8e5fff6a9b"
   },
   "outputs": [
    {
     "data": {
      "text/plain": [
       "DATE       0\n",
       "W729RC1    0\n",
       "dtype: int64"
      ]
     },
     "execution_count": 29,
     "metadata": {},
     "output_type": "execute_result"
    }
   ],
   "source": [
    "pce_medicaid.isnull().sum()"
   ]
  },
  {
   "cell_type": "markdown",
   "metadata": {
    "id": "CUTn8VevlDRp"
   },
   "source": [
    "*Data:  personal consumption expenditures for durable goods*"
   ]
  },
  {
   "cell_type": "code",
   "execution_count": 30,
   "metadata": {
    "id": "kstd7iWxloNR"
   },
   "outputs": [],
   "source": [
    "pce_durable['DATE'] = pd.to_datetime(pce_durable['DATE'])\n",
    "pce_durable.rename(columns = {'PCEDG':'Expenditure', 'DATE':'Date'}, inplace = True) \n",
    "new_durable = pce_durable.loc[pce_durable.Date > '2019-01-01'].copy().reset_index(drop=True)\n",
    "new_durable['Category']='Durable goods'"
   ]
  },
  {
   "cell_type": "markdown",
   "metadata": {
    "id": "52Mq2Hopo6Rk"
   },
   "source": [
    "*Data:  personal consumption expenditures for nondurable goods*"
   ]
  },
  {
   "cell_type": "code",
   "execution_count": 31,
   "metadata": {
    "id": "ihPpwJBhqNBD"
   },
   "outputs": [],
   "source": [
    "pce_nondurable['DATE'] = pd.to_datetime(pce_nondurable['DATE'])\n",
    "pce_nondurable.rename(columns = {'DATE':'Date','PCEND':'Expenditure'}, inplace = True) \n",
    "new_nondurable = pce_nondurable.loc[pce_nondurable.Date > '2019-01-01'].copy().reset_index(drop=True)\n",
    "new_nondurable['Category']='Non Durable goods'"
   ]
  },
  {
   "cell_type": "markdown",
   "metadata": {
    "id": "vPFlGvkso6lU"
   },
   "source": [
    "*Data:  personal consumption expenditures for food*"
   ]
  },
  {
   "cell_type": "code",
   "execution_count": 32,
   "metadata": {
    "id": "ZmH8-u7Stqpi"
   },
   "outputs": [],
   "source": [
    "pce_food['DATE'] = pd.to_datetime(pce_food['DATE'])\n",
    "pce_food.rename(columns = {'DATE':'Date','DFXARC1M027SBEA':'Expenditure'}, inplace = True) \n",
    "new_food = pce_food.loc[pce_food.Date > '2019-01-01'].copy().reset_index(drop=True)\n",
    "new_food['Category']='Food'"
   ]
  },
  {
   "cell_type": "markdown",
   "metadata": {
    "id": "qGlAUS_7o6vC"
   },
   "source": [
    "*Data:  personal consumption expenditures for services*"
   ]
  },
  {
   "cell_type": "code",
   "execution_count": 33,
   "metadata": {
    "id": "NvqX06kjuIev"
   },
   "outputs": [],
   "source": [
    "pce_services['DATE'] = pd.to_datetime(pce_services['DATE'])\n",
    "pce_services.rename(columns = {'DATE':'Date','PCES':'Expenditure'}, inplace = True) \n",
    "new_services = pce_services.loc[pce_services.Date > '2019-01-01'].copy().reset_index(drop=True)\n",
    "new_services['Category']='Services'"
   ]
  },
  {
   "cell_type": "markdown",
   "metadata": {
    "id": "rUKvR5ISDMKD"
   },
   "source": [
    "*Data:  personal consumption expenditures for medical*"
   ]
  },
  {
   "cell_type": "code",
   "execution_count": 34,
   "metadata": {
    "id": "VN1AHvaFyIjh"
   },
   "outputs": [],
   "source": [
    "pce_medicaid['DATE'] = pd.to_datetime(pce_medicaid['DATE'])\n",
    "pce_medicaid.rename(columns = {'DATE':'Date','W729RC1':'Expenditure'}, inplace = True) \n",
    "new_medicaid = pce_medicaid.loc[pce_medicaid.Date > '2019-01-01'].copy().reset_index(drop=True)\n",
    "new_medicaid['Category']='Medical'"
   ]
  },
  {
   "cell_type": "code",
   "execution_count": 35,
   "metadata": {
    "colab": {
     "base_uri": "https://localhost:8080/",
     "height": 419
    },
    "id": "obPJXDNpnmyX",
    "outputId": "6552648a-2611-4196-e22a-036263418f45"
   },
   "outputs": [
    {
     "data": {
      "text/html": [
       "<div>\n",
       "<style scoped>\n",
       "    .dataframe tbody tr th:only-of-type {\n",
       "        vertical-align: middle;\n",
       "    }\n",
       "\n",
       "    .dataframe tbody tr th {\n",
       "        vertical-align: top;\n",
       "    }\n",
       "\n",
       "    .dataframe thead th {\n",
       "        text-align: right;\n",
       "    }\n",
       "</style>\n",
       "<table border=\"1\" class=\"dataframe\">\n",
       "  <thead>\n",
       "    <tr style=\"text-align: right;\">\n",
       "      <th></th>\n",
       "      <th>Date</th>\n",
       "      <th>Expenditure</th>\n",
       "      <th>Category</th>\n",
       "    </tr>\n",
       "  </thead>\n",
       "  <tbody>\n",
       "    <tr>\n",
       "      <th>0</th>\n",
       "      <td>2019-02-01</td>\n",
       "      <td>1476.9</td>\n",
       "      <td>Durable goods</td>\n",
       "    </tr>\n",
       "    <tr>\n",
       "      <th>1</th>\n",
       "      <td>2019-03-01</td>\n",
       "      <td>1517.2</td>\n",
       "      <td>Durable goods</td>\n",
       "    </tr>\n",
       "    <tr>\n",
       "      <th>2</th>\n",
       "      <td>2019-04-01</td>\n",
       "      <td>1520.5</td>\n",
       "      <td>Durable goods</td>\n",
       "    </tr>\n",
       "    <tr>\n",
       "      <th>3</th>\n",
       "      <td>2019-05-01</td>\n",
       "      <td>1539.6</td>\n",
       "      <td>Durable goods</td>\n",
       "    </tr>\n",
       "    <tr>\n",
       "      <th>4</th>\n",
       "      <td>2019-06-01</td>\n",
       "      <td>1547.8</td>\n",
       "      <td>Durable goods</td>\n",
       "    </tr>\n",
       "    <tr>\n",
       "      <th>...</th>\n",
       "      <td>...</td>\n",
       "      <td>...</td>\n",
       "      <td>...</td>\n",
       "    </tr>\n",
       "    <tr>\n",
       "      <th>112</th>\n",
       "      <td>2020-10-01</td>\n",
       "      <td>9704.3</td>\n",
       "      <td>Services</td>\n",
       "    </tr>\n",
       "    <tr>\n",
       "      <th>113</th>\n",
       "      <td>2020-11-01</td>\n",
       "      <td>9670.7</td>\n",
       "      <td>Services</td>\n",
       "    </tr>\n",
       "    <tr>\n",
       "      <th>114</th>\n",
       "      <td>2020-12-01</td>\n",
       "      <td>9678.8</td>\n",
       "      <td>Services</td>\n",
       "    </tr>\n",
       "    <tr>\n",
       "      <th>115</th>\n",
       "      <td>2021-01-01</td>\n",
       "      <td>9764.2</td>\n",
       "      <td>Services</td>\n",
       "    </tr>\n",
       "    <tr>\n",
       "      <th>116</th>\n",
       "      <td>2021-02-01</td>\n",
       "      <td>9771.2</td>\n",
       "      <td>Services</td>\n",
       "    </tr>\n",
       "  </tbody>\n",
       "</table>\n",
       "<p>117 rows × 3 columns</p>\n",
       "</div>"
      ],
      "text/plain": [
       "          Date  Expenditure       Category\n",
       "0   2019-02-01       1476.9  Durable goods\n",
       "1   2019-03-01       1517.2  Durable goods\n",
       "2   2019-04-01       1520.5  Durable goods\n",
       "3   2019-05-01       1539.6  Durable goods\n",
       "4   2019-06-01       1547.8  Durable goods\n",
       "..         ...          ...            ...\n",
       "112 2020-10-01       9704.3       Services\n",
       "113 2020-11-01       9670.7       Services\n",
       "114 2020-12-01       9678.8       Services\n",
       "115 2021-01-01       9764.2       Services\n",
       "116 2021-02-01       9771.2       Services\n",
       "\n",
       "[117 rows x 3 columns]"
      ]
     },
     "execution_count": 35,
     "metadata": {},
     "output_type": "execute_result"
    }
   ],
   "source": [
    "#merging datasets\n",
    "new_medicaid.head()\n",
    "new_data = pd.concat([new_durable, new_food, new_nondurable, new_medicaid, new_services], axis=0)\n",
    "new_data.reset_index(drop=True)"
   ]
  },
  {
   "cell_type": "code",
   "execution_count": 36,
   "metadata": {
    "colab": {
     "base_uri": "https://localhost:8080/",
     "height": 323
    },
    "id": "jQyUzOsxoTkI",
    "outputId": "972f81f4-910c-488c-a589-fe96803284f3"
   },
   "outputs": [
    {
     "data": {
      "text/html": [
       "<div>\n",
       "<style scoped>\n",
       "    .dataframe tbody tr th:only-of-type {\n",
       "        vertical-align: middle;\n",
       "    }\n",
       "\n",
       "    .dataframe tbody tr th {\n",
       "        vertical-align: top;\n",
       "    }\n",
       "\n",
       "    .dataframe thead th {\n",
       "        text-align: right;\n",
       "    }\n",
       "</style>\n",
       "<table border=\"1\" class=\"dataframe\">\n",
       "  <thead>\n",
       "    <tr style=\"text-align: right;\">\n",
       "      <th>Date</th>\n",
       "      <th>2019-02-01</th>\n",
       "      <th>2019-03-01</th>\n",
       "      <th>2019-04-01</th>\n",
       "      <th>2019-05-01</th>\n",
       "      <th>2019-06-01</th>\n",
       "      <th>2019-07-01</th>\n",
       "      <th>2019-08-01</th>\n",
       "      <th>2019-09-01</th>\n",
       "      <th>2019-10-01</th>\n",
       "      <th>2019-11-01</th>\n",
       "      <th>...</th>\n",
       "      <th>2020-05-01</th>\n",
       "      <th>2020-06-01</th>\n",
       "      <th>2020-07-01</th>\n",
       "      <th>2020-08-01</th>\n",
       "      <th>2020-09-01</th>\n",
       "      <th>2020-10-01</th>\n",
       "      <th>2020-11-01</th>\n",
       "      <th>2020-12-01</th>\n",
       "      <th>2021-01-01</th>\n",
       "      <th>2021-02-01</th>\n",
       "    </tr>\n",
       "    <tr>\n",
       "      <th>Category</th>\n",
       "      <th></th>\n",
       "      <th></th>\n",
       "      <th></th>\n",
       "      <th></th>\n",
       "      <th></th>\n",
       "      <th></th>\n",
       "      <th></th>\n",
       "      <th></th>\n",
       "      <th></th>\n",
       "      <th></th>\n",
       "      <th></th>\n",
       "      <th></th>\n",
       "      <th></th>\n",
       "      <th></th>\n",
       "      <th></th>\n",
       "      <th></th>\n",
       "      <th></th>\n",
       "      <th></th>\n",
       "      <th></th>\n",
       "      <th></th>\n",
       "      <th></th>\n",
       "    </tr>\n",
       "  </thead>\n",
       "  <tbody>\n",
       "    <tr>\n",
       "      <th>Durable goods</th>\n",
       "      <td>1476.9</td>\n",
       "      <td>1517.2</td>\n",
       "      <td>1520.5</td>\n",
       "      <td>1539.6</td>\n",
       "      <td>1547.8</td>\n",
       "      <td>1546.7</td>\n",
       "      <td>1550.8</td>\n",
       "      <td>1561.0</td>\n",
       "      <td>1552.2</td>\n",
       "      <td>1555.8</td>\n",
       "      <td>...</td>\n",
       "      <td>1548.7</td>\n",
       "      <td>1686.6</td>\n",
       "      <td>1724.5</td>\n",
       "      <td>1759.8</td>\n",
       "      <td>1774.6</td>\n",
       "      <td>1788.7</td>\n",
       "      <td>1747.6</td>\n",
       "      <td>1707.9</td>\n",
       "      <td>1910.5</td>\n",
       "      <td>1820.3</td>\n",
       "    </tr>\n",
       "    <tr>\n",
       "      <th>Food</th>\n",
       "      <td>1000.3</td>\n",
       "      <td>1015.9</td>\n",
       "      <td>1019.7</td>\n",
       "      <td>1022.1</td>\n",
       "      <td>1028.3</td>\n",
       "      <td>1037.3</td>\n",
       "      <td>1037.8</td>\n",
       "      <td>1030.4</td>\n",
       "      <td>1032.1</td>\n",
       "      <td>1032.6</td>\n",
       "      <td>...</td>\n",
       "      <td>1148.8</td>\n",
       "      <td>1147.2</td>\n",
       "      <td>1152.8</td>\n",
       "      <td>1141.9</td>\n",
       "      <td>1146.4</td>\n",
       "      <td>1138.7</td>\n",
       "      <td>1151.1</td>\n",
       "      <td>1126.2</td>\n",
       "      <td>1192.2</td>\n",
       "      <td>1174.1</td>\n",
       "    </tr>\n",
       "    <tr>\n",
       "      <th>Medical</th>\n",
       "      <td>599.0</td>\n",
       "      <td>604.5</td>\n",
       "      <td>610.3</td>\n",
       "      <td>615.2</td>\n",
       "      <td>619.5</td>\n",
       "      <td>621.8</td>\n",
       "      <td>622.7</td>\n",
       "      <td>622.2</td>\n",
       "      <td>619.8</td>\n",
       "      <td>618.7</td>\n",
       "      <td>...</td>\n",
       "      <td>677.6</td>\n",
       "      <td>686.1</td>\n",
       "      <td>NaN</td>\n",
       "      <td>NaN</td>\n",
       "      <td>NaN</td>\n",
       "      <td>NaN</td>\n",
       "      <td>NaN</td>\n",
       "      <td>NaN</td>\n",
       "      <td>NaN</td>\n",
       "      <td>NaN</td>\n",
       "    </tr>\n",
       "    <tr>\n",
       "      <th>Non Durable goods</th>\n",
       "      <td>2904.3</td>\n",
       "      <td>2946.8</td>\n",
       "      <td>2975.4</td>\n",
       "      <td>2981.4</td>\n",
       "      <td>2988.3</td>\n",
       "      <td>3006.9</td>\n",
       "      <td>3008.1</td>\n",
       "      <td>2987.4</td>\n",
       "      <td>3010.3</td>\n",
       "      <td>3004.1</td>\n",
       "      <td>...</td>\n",
       "      <td>2899.1</td>\n",
       "      <td>3059.3</td>\n",
       "      <td>3091.3</td>\n",
       "      <td>3100.1</td>\n",
       "      <td>3154.6</td>\n",
       "      <td>3134.1</td>\n",
       "      <td>3114.5</td>\n",
       "      <td>3064.4</td>\n",
       "      <td>3264.3</td>\n",
       "      <td>3198.7</td>\n",
       "    </tr>\n",
       "    <tr>\n",
       "      <th>Services</th>\n",
       "      <td>9855.0</td>\n",
       "      <td>9906.0</td>\n",
       "      <td>9947.2</td>\n",
       "      <td>9972.0</td>\n",
       "      <td>10019.7</td>\n",
       "      <td>10058.3</td>\n",
       "      <td>10091.9</td>\n",
       "      <td>10124.8</td>\n",
       "      <td>10165.9</td>\n",
       "      <td>10192.8</td>\n",
       "      <td>...</td>\n",
       "      <td>8717.5</td>\n",
       "      <td>9268.7</td>\n",
       "      <td>9408.9</td>\n",
       "      <td>9537.2</td>\n",
       "      <td>9653.5</td>\n",
       "      <td>9704.3</td>\n",
       "      <td>9670.7</td>\n",
       "      <td>9678.8</td>\n",
       "      <td>9764.2</td>\n",
       "      <td>9771.2</td>\n",
       "    </tr>\n",
       "  </tbody>\n",
       "</table>\n",
       "<p>5 rows × 25 columns</p>\n",
       "</div>"
      ],
      "text/plain": [
       "Date               2019-02-01  2019-03-01  2019-04-01  2019-05-01  2019-06-01  \\\n",
       "Category                                                                        \n",
       "Durable goods          1476.9      1517.2      1520.5      1539.6      1547.8   \n",
       "Food                   1000.3      1015.9      1019.7      1022.1      1028.3   \n",
       "Medical                 599.0       604.5       610.3       615.2       619.5   \n",
       "Non Durable goods      2904.3      2946.8      2975.4      2981.4      2988.3   \n",
       "Services               9855.0      9906.0      9947.2      9972.0     10019.7   \n",
       "\n",
       "Date               2019-07-01  2019-08-01  2019-09-01  2019-10-01  2019-11-01  \\\n",
       "Category                                                                        \n",
       "Durable goods          1546.7      1550.8      1561.0      1552.2      1555.8   \n",
       "Food                   1037.3      1037.8      1030.4      1032.1      1032.6   \n",
       "Medical                 621.8       622.7       622.2       619.8       618.7   \n",
       "Non Durable goods      3006.9      3008.1      2987.4      3010.3      3004.1   \n",
       "Services              10058.3     10091.9     10124.8     10165.9     10192.8   \n",
       "\n",
       "Date               ...  2020-05-01  2020-06-01  2020-07-01  2020-08-01  \\\n",
       "Category           ...                                                   \n",
       "Durable goods      ...      1548.7      1686.6      1724.5      1759.8   \n",
       "Food               ...      1148.8      1147.2      1152.8      1141.9   \n",
       "Medical            ...       677.6       686.1         NaN         NaN   \n",
       "Non Durable goods  ...      2899.1      3059.3      3091.3      3100.1   \n",
       "Services           ...      8717.5      9268.7      9408.9      9537.2   \n",
       "\n",
       "Date               2020-09-01  2020-10-01  2020-11-01  2020-12-01  2021-01-01  \\\n",
       "Category                                                                        \n",
       "Durable goods          1774.6      1788.7      1747.6      1707.9      1910.5   \n",
       "Food                   1146.4      1138.7      1151.1      1126.2      1192.2   \n",
       "Medical                   NaN         NaN         NaN         NaN         NaN   \n",
       "Non Durable goods      3154.6      3134.1      3114.5      3064.4      3264.3   \n",
       "Services               9653.5      9704.3      9670.7      9678.8      9764.2   \n",
       "\n",
       "Date               2021-02-01  \n",
       "Category                       \n",
       "Durable goods          1820.3  \n",
       "Food                   1174.1  \n",
       "Medical                   NaN  \n",
       "Non Durable goods      3198.7  \n",
       "Services               9771.2  \n",
       "\n",
       "[5 rows x 25 columns]"
      ]
     },
     "execution_count": 36,
     "metadata": {},
     "output_type": "execute_result"
    }
   ],
   "source": [
    "new_data.pivot_table( 'Expenditure', ['Category'], 'Date')"
   ]
  },
  {
   "cell_type": "markdown",
   "metadata": {
    "id": "XblB_tHB0YtF"
   },
   "source": [
    "## Visulizing Trend after COVID"
   ]
  },
  {
   "cell_type": "code",
   "execution_count": 37,
   "metadata": {
    "colab": {
     "base_uri": "https://localhost:8080/",
     "height": 525
    },
    "id": "Fp33na5fztZY",
    "outputId": "f15363f7-e09b-4fd7-a70d-ea3ce68eb8a3"
   },
   "outputs": [
    {
     "data": {
      "text/plain": [
       "<AxesSubplot:xlabel='Date'>"
      ]
     },
     "execution_count": 37,
     "metadata": {},
     "output_type": "execute_result"
    },
    {
     "data": {
      "image/png": "[encoded data removed]",
      "text/plain": [
       "<Figure size 720x576 with 1 Axes>"
      ]
     },
     "metadata": {
      "needs_background": "light"
     },
     "output_type": "display_data"
    }
   ],
   "source": [
    "new_data.pivot_table( 'Expenditure', ['Date'], 'Category').plot(figsize=(10,8))"
   ]
  },
  {
   "cell_type": "markdown",
   "metadata": {
    "id": "v8afvZc838Yk"
   },
   "source": [
    "Here we can observe a very interesting trend. We can see almost all the market entity went down around February, which was expected, except two. That is food and medical. With medical staying almost the same throughout. But why?"
   ]
  },
  {
   "cell_type": "markdown",
   "metadata": {
    "id": "JQCJkoB4EWk_"
   },
   "source": [
    "### health industry"
   ]
  },
  {
   "cell_type": "code",
   "execution_count": 38,
   "metadata": {
    "colab": {
     "base_uri": "https://localhost:8080/",
     "height": 314
    },
    "id": "Snrhim5UmuRP",
    "outputId": "42009f0b-db20-4edb-824d-f57e33ed8172"
   },
   "outputs": [
    {
     "data": {
      "text/plain": [
       "[<matplotlib.lines.Line2D at 0x2c892521bb0>]"
      ]
     },
     "execution_count": 38,
     "metadata": {},
     "output_type": "execute_result"
    },
    {
     "data": {
      "image/png": "[encoded data removed]",
      "text/plain": [
       "<Figure size 432x288 with 1 Axes>"
      ]
     },
     "metadata": {
      "needs_background": "light"
     },
     "output_type": "display_data"
    }
   ],
   "source": [
    "plt.xticks(rotation = 'vertical')\n",
    "plt.plot(new_medicaid.Date,new_medicaid['Expenditure'])"
   ]
  },
  {
   "cell_type": "markdown",
   "metadata": {
    "id": "nAS4-DYO4LYH"
   },
   "source": [
    "Here we can see that this industry in-fact did rose a great deal upon close inspection. Right after January, the demand for medical attention and that of the industry has risen abruptly as-well. Which in-fact is to be expected as-well. That is around 10% rise since January."
   ]
  },
  {
   "cell_type": "markdown",
   "metadata": {
    "id": "rb4HchA2Eas2"
   },
   "source": [
    "### Food Industry"
   ]
  },
  {
   "cell_type": "code",
   "execution_count": 39,
   "metadata": {
    "colab": {
     "base_uri": "https://localhost:8080/",
     "height": 314
    },
    "id": "uBONYPuLEb8E",
    "outputId": "f3a60a33-d494-47c7-93a9-64b1bf38de5d"
   },
   "outputs": [
    {
     "data": {
      "text/plain": [
       "[<matplotlib.lines.Line2D at 0x2c8923ad820>]"
      ]
     },
     "execution_count": 39,
     "metadata": {},
     "output_type": "execute_result"
    },
    {
     "data": {
      "image/png": "[encoded data removed]",
      "text/plain": [
       "<Figure size 432x288 with 1 Axes>"
      ]
     },
     "metadata": {
      "needs_background": "light"
     },
     "output_type": "display_data"
    }
   ],
   "source": [
    "plt.xticks(rotation = 'vertical')\n",
    "plt.plot(new_food.Date,new_food['Expenditure'])"
   ]
  },
  {
   "cell_type": "markdown",
   "metadata": {
    "id": "VygaiWhk4DW9"
   },
   "source": [
    "See how industry rose for about half a month and abruptly fell down just as quickly. This could be justified with the panic that rose among the public at the start of the outbreak. upon the government issuance of the lockdown, public starting stocking up food and groceries which led to the demand of the industry. However, the impact was short and abrupt hence the fall in graph again. \n",
    "However, we could still observe that industry is still facing ups and downs hence we could claim that an amount of population might still be stocking up.\n"
   ]
  },
  {
   "cell_type": "markdown",
   "metadata": {
    "id": "lardLa53FLiH"
   },
   "source": [
    "### Service Industry"
   ]
  },
  {
   "cell_type": "code",
   "execution_count": 40,
   "metadata": {
    "colab": {
     "base_uri": "https://localhost:8080/",
     "height": 314
    },
    "id": "YRlijnQYE5wN",
    "outputId": "d00aae25-448f-43c4-b46f-ca88b5c9e23f"
   },
   "outputs": [
    {
     "data": {
      "text/plain": [
       "[<matplotlib.lines.Line2D at 0x2c892602fa0>]"
      ]
     },
     "execution_count": 40,
     "metadata": {},
     "output_type": "execute_result"
    },
    {
     "data": {
      "image/png": "[encoded data removed]",
      "text/plain": [
       "<Figure size 432x288 with 1 Axes>"
      ]
     },
     "metadata": {
      "needs_background": "light"
     },
     "output_type": "display_data"
    }
   ],
   "source": [
    "plt.xticks(rotation = 'vertical')\n",
    "plt.plot(new_services.Date,new_services['Expenditure'])"
   ]
  },
  {
   "cell_type": "markdown",
   "metadata": {
    "id": "XitOh3k3FUgU"
   },
   "source": [
    "### Industry of Durable goods"
   ]
  },
  {
   "cell_type": "code",
   "execution_count": 41,
   "metadata": {
    "colab": {
     "base_uri": "https://localhost:8080/",
     "height": 317
    },
    "id": "DBuFIgS8E-Hv",
    "outputId": "71217873-b6b8-422f-920b-cce6d6ceaf5d"
   },
   "outputs": [
    {
     "data": {
      "text/plain": [
       "[<matplotlib.lines.Line2D at 0x2c89250d310>]"
      ]
     },
     "execution_count": 41,
     "metadata": {},
     "output_type": "execute_result"
    },
    {
     "data": {
      "image/png": "[encoded data removed]",
      "text/plain": [
       "<Figure size 432x288 with 1 Axes>"
      ]
     },
     "metadata": {
      "needs_background": "light"
     },
     "output_type": "display_data"
    }
   ],
   "source": [
    "plt.xticks(rotation = 'vertical')\n",
    "plt.plot(new_durable.Date,new_durable['Expenditure'])"
   ]
  },
  {
   "cell_type": "markdown",
   "metadata": {
    "id": "xOgcoHj-FdyN"
   },
   "source": [
    "### Industry of nondurable goods"
   ]
  },
  {
   "cell_type": "code",
   "execution_count": 42,
   "metadata": {
    "colab": {
     "base_uri": "https://localhost:8080/",
     "height": 314
    },
    "id": "ucMq5IUtFZun",
    "outputId": "2c0dc2ba-8e6b-4af8-e236-3b8dbe2befbc"
   },
   "outputs": [
    {
     "data": {
      "text/plain": [
       "[<matplotlib.lines.Line2D at 0x2c892611cd0>]"
      ]
     },
     "execution_count": 42,
     "metadata": {},
     "output_type": "execute_result"
    },
    {
     "data": {
      "image/png": "[encoded data removed]",
      "text/plain": [
       "<Figure size 432x288 with 1 Axes>"
      ]
     },
     "metadata": {
      "needs_background": "light"
     },
     "output_type": "display_data"
    }
   ],
   "source": [
    "plt.xticks(rotation = 'vertical')\n",
    "plt.plot(new_nondurable.Date,new_nondurable['Expenditure'])"
   ]
  },
  {
   "cell_type": "markdown",
   "metadata": {
    "id": "npObspr34ePE"
   },
   "source": [
    "# Interpretation"
   ]
  },
  {
   "cell_type": "markdown",
   "metadata": {
    "id": "IMhAtyrB4dIW"
   },
   "source": [
    "Now we already know PCE was at $13 trillion in the second quarter of 2020, according to the Bureau of Economic Analysis (BEA). That's down 34.6% from the first quarter of 2020, which was already down 6.9% from 2019.\n",
    "Spending on durable goods, like automobiles, fell 13.8%. Spending on services, like hair salons, fell 9.8%. Spending on food, like groceries, rose 8.0%.\n",
    "U.S. retail sales in the second quarter fell 8.1% from the same quarter in 2019, according to Census Bureau data.5 The annualized rate well below the 3% annual retail sales growth rate viewed as desirable. Stores shut down and consumers stayed home to avoid the pandemic. This contributed to a 24.9% increase in online sales, as shoppers felt safer having their goods delivered.\n",
    "This accentuated a long-term trend. Online sales for Black Friday in 2019 grew by 19.6% over the previous year, according to Adobe data.6 Brick-and-mortar store sales increased by only 1.6% from 2018, says RetailNext.\n"
   ]
  }
 ],
 "metadata": {
  "colab": {
   "collapsed_sections": [],
   "name": "effect of COVID19 on sales.ipynb",
   "provenance": []
  },
  "kernelspec": {
   "display_name": "Python 3",
   "language": "python",
   "name": "python3"
  },
  "language_info": {
   "codemirror_mode": {
    "name": "ipython",
    "version": 3
   },
   "file_extension": ".py",
   "mimetype": "text/x-python",
   "name": "python",
   "nbconvert_exporter": "python",
   "pygments_lexer": "ipython3",
   "version": "3.8.5"
  }
 },
 "nbformat": 4,
 "nbformat_minor": 1
}
